{
 "cells": [
  {
   "cell_type": "markdown",
   "metadata": {},
   "source": [
    "# Dataset Augmentation Attempt"
   ]
  },
  {
   "cell_type": "code",
   "execution_count": 5,
   "metadata": {},
   "outputs": [],
   "source": [
    "import numpy as np\n",
    "import pandas as pd"
   ]
  },
  {
   "cell_type": "markdown",
   "metadata": {},
   "source": [
    "Additional data (Images, Wikidata Tag, Geographic Coordinates) for the following areas:\n",
    "- British Columbia\n",
    "- Greater Vancouver\n",
    "- Vancouver & Burnaby\n",
    "\n",
    "Was requested using WikiData Query Service with the following SQL Query:"
   ]
  },
  {
   "cell_type": "raw",
   "metadata": {},
   "source": [
    "SELECT ?country ?image ?imageLabel ?coordinate_location ?Commons_category WHERE {\n",
    "      ?country wdt:P131 wd:Q236837.\n",
    "      OPTIONAL { ?country wdt:P18 ?image. }\n",
    "      SERVICE wikibase:label { bd:serviceParam wikibase:language \"[AUTO_LANGUAGE],en\". }\n",
    "      OPTIONAL { ?country wdt:P625 ?coordinate_location. }\n",
    "      OPTIONAL { ?country wdt:P373 ?Commons_category. }\n",
    "}"
   ]
  },
  {
   "cell_type": "code",
   "execution_count": 6,
   "metadata": {},
   "outputs": [],
   "source": [
    "# Parses URL to a tag\n",
    "def splitWikiTag(link):\n",
    "    return link.rsplit('/')[-1]\n",
    "\n",
    "# Parses Coordinate to Latitude\n",
    "def parseLongitude(loc):\n",
    "    split_part = loc.rsplit(' ')\n",
    "    if(len(split_part) < 2):\n",
    "        return False\n",
    "    splitLeft = split_part[0].split('(')\n",
    "    return np.float32(splitLeft[1])\n",
    "\n",
    "# Parses Coordinate to Longitude\n",
    "def parseLatitude(loc):\n",
    "    split_part = loc.rsplit(' ')\n",
    "    if(len(split_part) < 2):\n",
    "        return False\n",
    "    splitRight = split_part[1].rsplit(')')\n",
    "    return np.float32(splitRight[0])"
   ]
  },
  {
   "cell_type": "markdown",
   "metadata": {},
   "source": [
    "### Wikidata Query: British Columbia"
   ]
  },
  {
   "cell_type": "code",
   "execution_count": 56,
   "metadata": {},
   "outputs": [],
   "source": [
    "# Load Data\n",
    "bc_data = pd.read_json(\"./WikiData/query-BC.json\", lines = False)"
   ]
  },
  {
   "cell_type": "code",
   "execution_count": 57,
   "metadata": {},
   "outputs": [],
   "source": [
    "# Parse\n",
    "bc_data['WikiData'] = bc_data['country'].apply(splitWikiTag)\n",
    "bc_data['lat'] = bc_data['coordinate_location'].fillna(\"\").apply(parseLatitude)\n",
    "bc_data['lon'] = bc_data['coordinate_location'].fillna(\"\").apply(parseLongitude)"
   ]
  },
  {
   "cell_type": "code",
   "execution_count": 58,
   "metadata": {},
   "outputs": [
    {
     "data": {
      "text/plain": [
       "(38317, 5)"
      ]
     },
     "execution_count": 58,
     "metadata": {},
     "output_type": "execute_result"
    }
   ],
   "source": [
    "# Drop Odd Axes\n",
    "bc_data = bc_data.drop(['coordinate_location', 'imageLabel','country'], axis = 1)\n",
    "bc_data.shape"
   ]
  },
  {
   "cell_type": "code",
   "execution_count": 60,
   "metadata": {
    "scrolled": false
   },
   "outputs": [
    {
     "data": {
      "text/html": [
       "<div>\n",
       "<style scoped>\n",
       "    .dataframe tbody tr th:only-of-type {\n",
       "        vertical-align: middle;\n",
       "    }\n",
       "\n",
       "    .dataframe tbody tr th {\n",
       "        vertical-align: top;\n",
       "    }\n",
       "\n",
       "    .dataframe thead th {\n",
       "        text-align: right;\n",
       "    }\n",
       "</style>\n",
       "<table border=\"1\" class=\"dataframe\">\n",
       "  <thead>\n",
       "    <tr style=\"text-align: right;\">\n",
       "      <th></th>\n",
       "      <th>image</th>\n",
       "      <th>Commons_category</th>\n",
       "      <th>WikiData</th>\n",
       "      <th>lat</th>\n",
       "      <th>lon</th>\n",
       "    </tr>\n",
       "  </thead>\n",
       "  <tbody>\n",
       "    <tr>\n",
       "      <th>0</th>\n",
       "      <td>NaN</td>\n",
       "      <td>NaN</td>\n",
       "      <td>Q316373</td>\n",
       "      <td>49.5167</td>\n",
       "      <td>-125.233</td>\n",
       "    </tr>\n",
       "    <tr>\n",
       "      <th>1</th>\n",
       "      <td>NaN</td>\n",
       "      <td>NaN</td>\n",
       "      <td>Q316380</td>\n",
       "      <td>49.45</td>\n",
       "      <td>-122.017</td>\n",
       "    </tr>\n",
       "    <tr>\n",
       "      <th>2</th>\n",
       "      <td>http://commons.wikimedia.org/wiki/Special:File...</td>\n",
       "      <td>Floe Lake</td>\n",
       "      <td>Q316383</td>\n",
       "      <td>51.053</td>\n",
       "      <td>-116.141</td>\n",
       "    </tr>\n",
       "    <tr>\n",
       "      <th>3</th>\n",
       "      <td>NaN</td>\n",
       "      <td>NaN</td>\n",
       "      <td>Q316387</td>\n",
       "      <td>48.9</td>\n",
       "      <td>-124.9</td>\n",
       "    </tr>\n",
       "    <tr>\n",
       "      <th>4</th>\n",
       "      <td>NaN</td>\n",
       "      <td>NaN</td>\n",
       "      <td>Q279989</td>\n",
       "      <td>49.0333</td>\n",
       "      <td>-117.383</td>\n",
       "    </tr>\n",
       "    <tr>\n",
       "      <th>...</th>\n",
       "      <td>...</td>\n",
       "      <td>...</td>\n",
       "      <td>...</td>\n",
       "      <td>...</td>\n",
       "      <td>...</td>\n",
       "    </tr>\n",
       "    <tr>\n",
       "      <th>38312</th>\n",
       "      <td>NaN</td>\n",
       "      <td>NaN</td>\n",
       "      <td>Q61281083</td>\n",
       "      <td>49.2</td>\n",
       "      <td>-122.03</td>\n",
       "    </tr>\n",
       "    <tr>\n",
       "      <th>38313</th>\n",
       "      <td>NaN</td>\n",
       "      <td>NaN</td>\n",
       "      <td>Q61281084</td>\n",
       "      <td>49.37</td>\n",
       "      <td>-123.1</td>\n",
       "    </tr>\n",
       "    <tr>\n",
       "      <th>38314</th>\n",
       "      <td>NaN</td>\n",
       "      <td>NaN</td>\n",
       "      <td>Q61281087</td>\n",
       "      <td>49.35</td>\n",
       "      <td>-123.12</td>\n",
       "    </tr>\n",
       "    <tr>\n",
       "      <th>38315</th>\n",
       "      <td>NaN</td>\n",
       "      <td>NaN</td>\n",
       "      <td>Q61281090</td>\n",
       "      <td>49.32</td>\n",
       "      <td>-123.08</td>\n",
       "    </tr>\n",
       "    <tr>\n",
       "      <th>38316</th>\n",
       "      <td>NaN</td>\n",
       "      <td>NaN</td>\n",
       "      <td>Q61281093</td>\n",
       "      <td>49.33</td>\n",
       "      <td>-123.12</td>\n",
       "    </tr>\n",
       "  </tbody>\n",
       "</table>\n",
       "<p>38317 rows × 5 columns</p>\n",
       "</div>"
      ],
      "text/plain": [
       "                                                   image Commons_category  \\\n",
       "0                                                    NaN              NaN   \n",
       "1                                                    NaN              NaN   \n",
       "2      http://commons.wikimedia.org/wiki/Special:File...        Floe Lake   \n",
       "3                                                    NaN              NaN   \n",
       "4                                                    NaN              NaN   \n",
       "...                                                  ...              ...   \n",
       "38312                                                NaN              NaN   \n",
       "38313                                                NaN              NaN   \n",
       "38314                                                NaN              NaN   \n",
       "38315                                                NaN              NaN   \n",
       "38316                                                NaN              NaN   \n",
       "\n",
       "        WikiData      lat      lon  \n",
       "0        Q316373  49.5167 -125.233  \n",
       "1        Q316380    49.45 -122.017  \n",
       "2        Q316383   51.053 -116.141  \n",
       "3        Q316387     48.9   -124.9  \n",
       "4        Q279989  49.0333 -117.383  \n",
       "...          ...      ...      ...  \n",
       "38312  Q61281083     49.2  -122.03  \n",
       "38313  Q61281084    49.37   -123.1  \n",
       "38314  Q61281087    49.35  -123.12  \n",
       "38315  Q61281090    49.32  -123.08  \n",
       "38316  Q61281093    49.33  -123.12  \n",
       "\n",
       "[38317 rows x 5 columns]"
      ]
     },
     "execution_count": 60,
     "metadata": {},
     "output_type": "execute_result"
    }
   ],
   "source": [
    "bc_data"
   ]
  },
  {
   "cell_type": "code",
   "execution_count": 718,
   "metadata": {},
   "outputs": [
    {
     "data": {
      "text/plain": [
       "(1158,)"
      ]
     },
     "execution_count": 718,
     "metadata": {},
     "output_type": "execute_result"
    }
   ],
   "source": [
    "# Number of Images available for British Columbia\n",
    "bc_data.image.unique().shape"
   ]
  },
  {
   "cell_type": "markdown",
   "metadata": {},
   "source": [
    "\n",
    "\n",
    "### Wikidata Query: Metro Vancouver"
   ]
  },
  {
   "cell_type": "code",
   "execution_count": 11,
   "metadata": {},
   "outputs": [],
   "source": [
    "# Load Data\n",
    "metro_van_data = pd.read_json(\"./WikiData/query_Matro_van.json\", lines = False)"
   ]
  },
  {
   "cell_type": "code",
   "execution_count": 12,
   "metadata": {},
   "outputs": [],
   "source": [
    "# Parse\n",
    "metro_van_data['WikiData'] = metro_van_data['country'].apply(splitWikiTag)\n",
    "metro_van_data['lat'] = metro_van_data['coordinate_location'].fillna(\"\").apply(parseLatitude)\n",
    "metro_van_data['lon'] = metro_van_data['coordinate_location'].fillna(\"\").apply(parseLongitude)"
   ]
  },
  {
   "cell_type": "code",
   "execution_count": 13,
   "metadata": {},
   "outputs": [
    {
     "data": {
      "text/plain": [
       "(57, 5)"
      ]
     },
     "execution_count": 13,
     "metadata": {},
     "output_type": "execute_result"
    }
   ],
   "source": [
    "# Get Rid of Odd Axes\n",
    "metro_van_data = metro_van_data.drop(['coordinate_location', 'imageLabel', 'country'], axis = 1)\n",
    "metro_van_data.shape"
   ]
  },
  {
   "cell_type": "code",
   "execution_count": 719,
   "metadata": {},
   "outputs": [
    {
     "data": {
      "text/html": [
       "<div>\n",
       "<style scoped>\n",
       "    .dataframe tbody tr th:only-of-type {\n",
       "        vertical-align: middle;\n",
       "    }\n",
       "\n",
       "    .dataframe tbody tr th {\n",
       "        vertical-align: top;\n",
       "    }\n",
       "\n",
       "    .dataframe thead th {\n",
       "        text-align: right;\n",
       "    }\n",
       "</style>\n",
       "<table border=\"1\" class=\"dataframe\">\n",
       "  <thead>\n",
       "    <tr style=\"text-align: right;\">\n",
       "      <th></th>\n",
       "      <th>Commons_category</th>\n",
       "      <th>image</th>\n",
       "      <th>WikiData</th>\n",
       "      <th>lat</th>\n",
       "      <th>lon</th>\n",
       "    </tr>\n",
       "  </thead>\n",
       "  <tbody>\n",
       "    <tr>\n",
       "      <th>0</th>\n",
       "      <td>Maple Ridge</td>\n",
       "      <td>NaN</td>\n",
       "      <td>Q16740</td>\n",
       "      <td>49.2167</td>\n",
       "      <td>-122.6</td>\n",
       "    </tr>\n",
       "    <tr>\n",
       "      <th>1</th>\n",
       "      <td>Vancouver</td>\n",
       "      <td>http://commons.wikimedia.org/wiki/Special:File...</td>\n",
       "      <td>Q24639</td>\n",
       "      <td>49.25</td>\n",
       "      <td>-123.1</td>\n",
       "    </tr>\n",
       "    <tr>\n",
       "      <th>2</th>\n",
       "      <td>Peace Arch Park</td>\n",
       "      <td>http://commons.wikimedia.org/wiki/Special:File...</td>\n",
       "      <td>Q192531</td>\n",
       "      <td>49.0021</td>\n",
       "      <td>-122.757</td>\n",
       "    </tr>\n",
       "    <tr>\n",
       "      <th>3</th>\n",
       "      <td>Richmond, British Columbia</td>\n",
       "      <td>http://commons.wikimedia.org/wiki/Special:File...</td>\n",
       "      <td>Q236837</td>\n",
       "      <td>49.1667</td>\n",
       "      <td>-123.133</td>\n",
       "    </tr>\n",
       "    <tr>\n",
       "      <th>4</th>\n",
       "      <td>Burnaby, British Columbia</td>\n",
       "      <td>http://commons.wikimedia.org/wiki/Special:File...</td>\n",
       "      <td>Q244025</td>\n",
       "      <td>49.25</td>\n",
       "      <td>-122.949</td>\n",
       "    </tr>\n",
       "  </tbody>\n",
       "</table>\n",
       "</div>"
      ],
      "text/plain": [
       "             Commons_category  \\\n",
       "0                 Maple Ridge   \n",
       "1                   Vancouver   \n",
       "2             Peace Arch Park   \n",
       "3  Richmond, British Columbia   \n",
       "4   Burnaby, British Columbia   \n",
       "\n",
       "                                               image WikiData      lat  \\\n",
       "0                                                NaN   Q16740  49.2167   \n",
       "1  http://commons.wikimedia.org/wiki/Special:File...   Q24639    49.25   \n",
       "2  http://commons.wikimedia.org/wiki/Special:File...  Q192531  49.0021   \n",
       "3  http://commons.wikimedia.org/wiki/Special:File...  Q236837  49.1667   \n",
       "4  http://commons.wikimedia.org/wiki/Special:File...  Q244025    49.25   \n",
       "\n",
       "       lon  \n",
       "0   -122.6  \n",
       "1   -123.1  \n",
       "2 -122.757  \n",
       "3 -123.133  \n",
       "4 -122.949  "
      ]
     },
     "execution_count": 719,
     "metadata": {},
     "output_type": "execute_result"
    }
   ],
   "source": [
    "metro_van_data.head(5)"
   ]
  },
  {
   "cell_type": "code",
   "execution_count": 720,
   "metadata": {},
   "outputs": [
    {
     "data": {
      "text/plain": [
       "(41,)"
      ]
     },
     "execution_count": 720,
     "metadata": {},
     "output_type": "execute_result"
    }
   ],
   "source": [
    "# Number of Images for Metro Vancouver\n",
    "metro_van_data.image.unique().shape"
   ]
  },
  {
   "cell_type": "markdown",
   "metadata": {},
   "source": [
    "### Wikidata Query: Vancouver"
   ]
  },
  {
   "cell_type": "code",
   "execution_count": 726,
   "metadata": {},
   "outputs": [],
   "source": [
    "# Load Data\n",
    "van_data = pd.read_json(\"./WikiData/query-Van.json\", lines = False)"
   ]
  },
  {
   "cell_type": "code",
   "execution_count": 727,
   "metadata": {},
   "outputs": [
    {
     "data": {
      "text/plain": [
       "(449, 5)"
      ]
     },
     "execution_count": 727,
     "metadata": {},
     "output_type": "execute_result"
    }
   ],
   "source": [
    "# Parse\n",
    "van_data['WikiData'] = van_data['country'].apply(splitWikiTag)\n",
    "van_data['lat'] = van_data['coordinate_location'].fillna(\"\").apply(parseLatitude)\n",
    "van_data['lon'] = van_data['coordinate_location'].fillna(\"\").apply(parseLongitude)\n",
    "\n",
    "# Drop Odd Axes\n",
    "van_data = van_data.drop(['coordinate_location', 'imageLabel', 'country'], axis = 1)\n",
    "van_data.shape"
   ]
  },
  {
   "cell_type": "code",
   "execution_count": 728,
   "metadata": {},
   "outputs": [
    {
     "data": {
      "text/html": [
       "<div>\n",
       "<style scoped>\n",
       "    .dataframe tbody tr th:only-of-type {\n",
       "        vertical-align: middle;\n",
       "    }\n",
       "\n",
       "    .dataframe tbody tr th {\n",
       "        vertical-align: top;\n",
       "    }\n",
       "\n",
       "    .dataframe thead th {\n",
       "        text-align: right;\n",
       "    }\n",
       "</style>\n",
       "<table border=\"1\" class=\"dataframe\">\n",
       "  <thead>\n",
       "    <tr style=\"text-align: right;\">\n",
       "      <th></th>\n",
       "      <th>image</th>\n",
       "      <th>Commons_category</th>\n",
       "      <th>WikiData</th>\n",
       "      <th>lat</th>\n",
       "      <th>lon</th>\n",
       "    </tr>\n",
       "  </thead>\n",
       "  <tbody>\n",
       "    <tr>\n",
       "      <th>0</th>\n",
       "      <td>NaN</td>\n",
       "      <td>NaN</td>\n",
       "      <td>Q30265517</td>\n",
       "      <td>49.2813</td>\n",
       "      <td>-123.094</td>\n",
       "    </tr>\n",
       "    <tr>\n",
       "      <th>1</th>\n",
       "      <td>NaN</td>\n",
       "      <td>NaN</td>\n",
       "      <td>Q30270127</td>\n",
       "      <td>49.2809</td>\n",
       "      <td>-123.119</td>\n",
       "    </tr>\n",
       "    <tr>\n",
       "      <th>2</th>\n",
       "      <td>NaN</td>\n",
       "      <td>NaN</td>\n",
       "      <td>Q30271056</td>\n",
       "      <td>49.2655</td>\n",
       "      <td>-123.25</td>\n",
       "    </tr>\n",
       "    <tr>\n",
       "      <th>3</th>\n",
       "      <td>NaN</td>\n",
       "      <td>NaN</td>\n",
       "      <td>Q30271079</td>\n",
       "      <td>49.2612</td>\n",
       "      <td>-123.106</td>\n",
       "    </tr>\n",
       "    <tr>\n",
       "      <th>4</th>\n",
       "      <td>NaN</td>\n",
       "      <td>NaN</td>\n",
       "      <td>Q30272159</td>\n",
       "      <td>49.2705</td>\n",
       "      <td>-123.134</td>\n",
       "    </tr>\n",
       "  </tbody>\n",
       "</table>\n",
       "</div>"
      ],
      "text/plain": [
       "  image Commons_category   WikiData      lat      lon\n",
       "0   NaN              NaN  Q30265517  49.2813 -123.094\n",
       "1   NaN              NaN  Q30270127  49.2809 -123.119\n",
       "2   NaN              NaN  Q30271056  49.2655  -123.25\n",
       "3   NaN              NaN  Q30271079  49.2612 -123.106\n",
       "4   NaN              NaN  Q30272159  49.2705 -123.134"
      ]
     },
     "execution_count": 728,
     "metadata": {},
     "output_type": "execute_result"
    }
   ],
   "source": [
    "van_data.head(5)"
   ]
  },
  {
   "cell_type": "code",
   "execution_count": 731,
   "metadata": {},
   "outputs": [
    {
     "data": {
      "text/plain": [
       "(164,)"
      ]
     },
     "execution_count": 731,
     "metadata": {},
     "output_type": "execute_result"
    }
   ],
   "source": [
    "# Number of Images Available for Vancouver\n",
    "van_data.image.unique().shape"
   ]
  },
  {
   "cell_type": "markdown",
   "metadata": {},
   "source": [
    "### Wikidata Query: Burnaby"
   ]
  },
  {
   "cell_type": "code",
   "execution_count": 18,
   "metadata": {},
   "outputs": [],
   "source": [
    "# Load Data\n",
    "burnaby_data = pd.read_json(\"./WikiData/query-Burnaby.json\", lines = False)"
   ]
  },
  {
   "cell_type": "code",
   "execution_count": 19,
   "metadata": {},
   "outputs": [
    {
     "data": {
      "text/plain": [
       "(44, 5)"
      ]
     },
     "execution_count": 19,
     "metadata": {},
     "output_type": "execute_result"
    }
   ],
   "source": [
    "# Parse\n",
    "burnaby_data['WikiData'] = burnaby_data['country'].apply(splitWikiTag)\n",
    "burnaby_data['lat'] = burnaby_data['coordinate_location'].fillna(\"\").apply(parseLatitude)\n",
    "burnaby_data['lon'] = burnaby_data['coordinate_location'].fillna(\"\").apply(parseLongitude)\n",
    "\n",
    "# Drop Odd Axes\n",
    "burnaby_data = burnaby_data.drop(['coordinate_location', 'imageLabel', 'country'], axis = 1)\n",
    "burnaby_data.shape"
   ]
  },
  {
   "cell_type": "code",
   "execution_count": 20,
   "metadata": {},
   "outputs": [
    {
     "data": {
      "text/html": [
       "<div>\n",
       "<style scoped>\n",
       "    .dataframe tbody tr th:only-of-type {\n",
       "        vertical-align: middle;\n",
       "    }\n",
       "\n",
       "    .dataframe tbody tr th {\n",
       "        vertical-align: top;\n",
       "    }\n",
       "\n",
       "    .dataframe thead th {\n",
       "        text-align: right;\n",
       "    }\n",
       "</style>\n",
       "<table border=\"1\" class=\"dataframe\">\n",
       "  <thead>\n",
       "    <tr style=\"text-align: right;\">\n",
       "      <th></th>\n",
       "      <th>image</th>\n",
       "      <th>Commons_category</th>\n",
       "      <th>WikiData</th>\n",
       "      <th>lat</th>\n",
       "      <th>lon</th>\n",
       "    </tr>\n",
       "  </thead>\n",
       "  <tbody>\n",
       "    <tr>\n",
       "      <th>0</th>\n",
       "      <td>http://commons.wikimedia.org/wiki/Special:File...</td>\n",
       "      <td>Simon Fraser University</td>\n",
       "      <td>Q201603</td>\n",
       "      <td>49.2789</td>\n",
       "      <td>-122.916</td>\n",
       "    </tr>\n",
       "    <tr>\n",
       "      <th>1</th>\n",
       "      <td>http://commons.wikimedia.org/wiki/Special:File...</td>\n",
       "      <td>Burnaby Lake Regional Park</td>\n",
       "      <td>Q731136</td>\n",
       "      <td>49.2424</td>\n",
       "      <td>-122.946</td>\n",
       "    </tr>\n",
       "    <tr>\n",
       "      <th>2</th>\n",
       "      <td>http://commons.wikimedia.org/wiki/Special:File...</td>\n",
       "      <td>British Columbia Institute of Technology</td>\n",
       "      <td>Q820796</td>\n",
       "      <td>49.25</td>\n",
       "      <td>-123.002</td>\n",
       "    </tr>\n",
       "    <tr>\n",
       "      <th>3</th>\n",
       "      <td>http://commons.wikimedia.org/wiki/Special:File...</td>\n",
       "      <td>Lougheed Town Centre Station</td>\n",
       "      <td>Q1826172</td>\n",
       "      <td>49.2485</td>\n",
       "      <td>-122.897</td>\n",
       "    </tr>\n",
       "    <tr>\n",
       "      <th>4</th>\n",
       "      <td>http://commons.wikimedia.org/wiki/Special:File...</td>\n",
       "      <td>NaN</td>\n",
       "      <td>Q3484338</td>\n",
       "      <td>False</td>\n",
       "      <td>False</td>\n",
       "    </tr>\n",
       "  </tbody>\n",
       "</table>\n",
       "</div>"
      ],
      "text/plain": [
       "                                               image  \\\n",
       "0  http://commons.wikimedia.org/wiki/Special:File...   \n",
       "1  http://commons.wikimedia.org/wiki/Special:File...   \n",
       "2  http://commons.wikimedia.org/wiki/Special:File...   \n",
       "3  http://commons.wikimedia.org/wiki/Special:File...   \n",
       "4  http://commons.wikimedia.org/wiki/Special:File...   \n",
       "\n",
       "                           Commons_category  WikiData      lat      lon  \n",
       "0                   Simon Fraser University   Q201603  49.2789 -122.916  \n",
       "1                Burnaby Lake Regional Park   Q731136  49.2424 -122.946  \n",
       "2  British Columbia Institute of Technology   Q820796    49.25 -123.002  \n",
       "3              Lougheed Town Centre Station  Q1826172  49.2485 -122.897  \n",
       "4                                       NaN  Q3484338    False    False  "
      ]
     },
     "execution_count": 20,
     "metadata": {},
     "output_type": "execute_result"
    }
   ],
   "source": [
    "burnaby_data.head(5)"
   ]
  },
  {
   "cell_type": "code",
   "execution_count": 733,
   "metadata": {},
   "outputs": [
    {
     "data": {
      "text/plain": [
       "(11,)"
      ]
     },
     "execution_count": 733,
     "metadata": {},
     "output_type": "execute_result"
    }
   ],
   "source": [
    "# Number of Images Available for Burnaby\n",
    "burnaby_data.image.unique().shape"
   ]
  },
  {
   "cell_type": "markdown",
   "metadata": {},
   "source": [
    "# Joining OSM & WikiData\n",
    "\n",
    "We join the provided OSM data with Wikidata entries to potentially augment our data with images."
   ]
  },
  {
   "cell_type": "code",
   "execution_count": 76,
   "metadata": {},
   "outputs": [
    {
     "data": {
      "text/html": [
       "<div>\n",
       "<style scoped>\n",
       "    .dataframe tbody tr th:only-of-type {\n",
       "        vertical-align: middle;\n",
       "    }\n",
       "\n",
       "    .dataframe tbody tr th {\n",
       "        vertical-align: top;\n",
       "    }\n",
       "\n",
       "    .dataframe thead th {\n",
       "        text-align: right;\n",
       "    }\n",
       "</style>\n",
       "<table border=\"1\" class=\"dataframe\">\n",
       "  <thead>\n",
       "    <tr style=\"text-align: right;\">\n",
       "      <th></th>\n",
       "      <th>Commons_category</th>\n",
       "      <th>WikiData</th>\n",
       "      <th>image</th>\n",
       "      <th>lat</th>\n",
       "      <th>lon</th>\n",
       "    </tr>\n",
       "  </thead>\n",
       "  <tbody>\n",
       "    <tr>\n",
       "      <th>0</th>\n",
       "      <td>NaN</td>\n",
       "      <td>Q316373</td>\n",
       "      <td>NaN</td>\n",
       "      <td>49.5167</td>\n",
       "      <td>-125.233</td>\n",
       "    </tr>\n",
       "    <tr>\n",
       "      <th>1</th>\n",
       "      <td>NaN</td>\n",
       "      <td>Q316380</td>\n",
       "      <td>NaN</td>\n",
       "      <td>49.45</td>\n",
       "      <td>-122.017</td>\n",
       "    </tr>\n",
       "    <tr>\n",
       "      <th>2</th>\n",
       "      <td>Floe Lake</td>\n",
       "      <td>Q316383</td>\n",
       "      <td>http://commons.wikimedia.org/wiki/Special:File...</td>\n",
       "      <td>51.053</td>\n",
       "      <td>-116.141</td>\n",
       "    </tr>\n",
       "    <tr>\n",
       "      <th>3</th>\n",
       "      <td>NaN</td>\n",
       "      <td>Q316387</td>\n",
       "      <td>NaN</td>\n",
       "      <td>48.9</td>\n",
       "      <td>-124.9</td>\n",
       "    </tr>\n",
       "    <tr>\n",
       "      <th>4</th>\n",
       "      <td>NaN</td>\n",
       "      <td>Q279989</td>\n",
       "      <td>NaN</td>\n",
       "      <td>49.0333</td>\n",
       "      <td>-117.383</td>\n",
       "    </tr>\n",
       "    <tr>\n",
       "      <th>...</th>\n",
       "      <td>...</td>\n",
       "      <td>...</td>\n",
       "      <td>...</td>\n",
       "      <td>...</td>\n",
       "      <td>...</td>\n",
       "    </tr>\n",
       "    <tr>\n",
       "      <th>52</th>\n",
       "      <td>NaN</td>\n",
       "      <td>Q46941204</td>\n",
       "      <td>http://commons.wikimedia.org/wiki/Special:File...</td>\n",
       "      <td>49.1058</td>\n",
       "      <td>-123.303</td>\n",
       "    </tr>\n",
       "    <tr>\n",
       "      <th>53</th>\n",
       "      <td>Gurdwara Sahib Brookside</td>\n",
       "      <td>Q65228151</td>\n",
       "      <td>http://commons.wikimedia.org/wiki/Special:File...</td>\n",
       "      <td>49.1549</td>\n",
       "      <td>-122.835</td>\n",
       "    </tr>\n",
       "    <tr>\n",
       "      <th>54</th>\n",
       "      <td>Gurdwara Darbar Shri Guru Granth Sahib ji</td>\n",
       "      <td>Q65428660</td>\n",
       "      <td>http://commons.wikimedia.org/wiki/Special:File...</td>\n",
       "      <td>49.1634</td>\n",
       "      <td>-122.756</td>\n",
       "    </tr>\n",
       "    <tr>\n",
       "      <th>55</th>\n",
       "      <td>Gurdwara Shri Guru Singh Sabha</td>\n",
       "      <td>Q65428844</td>\n",
       "      <td>http://commons.wikimedia.org/wiki/Special:File...</td>\n",
       "      <td>49.1505</td>\n",
       "      <td>-122.858</td>\n",
       "    </tr>\n",
       "    <tr>\n",
       "      <th>56</th>\n",
       "      <td>Gurdwara Sahib Shri Dasmesh Darbar</td>\n",
       "      <td>Q65515133</td>\n",
       "      <td>http://commons.wikimedia.org/wiki/Special:File...</td>\n",
       "      <td>49.1583</td>\n",
       "      <td>-122.864</td>\n",
       "    </tr>\n",
       "  </tbody>\n",
       "</table>\n",
       "<p>38867 rows × 5 columns</p>\n",
       "</div>"
      ],
      "text/plain": [
       "                             Commons_category   WikiData  \\\n",
       "0                                         NaN    Q316373   \n",
       "1                                         NaN    Q316380   \n",
       "2                                   Floe Lake    Q316383   \n",
       "3                                         NaN    Q316387   \n",
       "4                                         NaN    Q279989   \n",
       "..                                        ...        ...   \n",
       "52                                        NaN  Q46941204   \n",
       "53                   Gurdwara Sahib Brookside  Q65228151   \n",
       "54  Gurdwara Darbar Shri Guru Granth Sahib ji  Q65428660   \n",
       "55             Gurdwara Shri Guru Singh Sabha  Q65428844   \n",
       "56         Gurdwara Sahib Shri Dasmesh Darbar  Q65515133   \n",
       "\n",
       "                                                image      lat      lon  \n",
       "0                                                 NaN  49.5167 -125.233  \n",
       "1                                                 NaN    49.45 -122.017  \n",
       "2   http://commons.wikimedia.org/wiki/Special:File...   51.053 -116.141  \n",
       "3                                                 NaN     48.9   -124.9  \n",
       "4                                                 NaN  49.0333 -117.383  \n",
       "..                                                ...      ...      ...  \n",
       "52  http://commons.wikimedia.org/wiki/Special:File...  49.1058 -123.303  \n",
       "53  http://commons.wikimedia.org/wiki/Special:File...  49.1549 -122.835  \n",
       "54  http://commons.wikimedia.org/wiki/Special:File...  49.1634 -122.756  \n",
       "55  http://commons.wikimedia.org/wiki/Special:File...  49.1505 -122.858  \n",
       "56  http://commons.wikimedia.org/wiki/Special:File...  49.1583 -122.864  \n",
       "\n",
       "[38867 rows x 5 columns]"
      ]
     },
     "execution_count": 76,
     "metadata": {},
     "output_type": "execute_result"
    }
   ],
   "source": [
    "# Concatenate all datasets retreived from WikiData for all areas.\n",
    "greater_van = [bc_data, van_data, burnaby_data, metro_van_data]\n",
    "greater_van = pd.concat(greater_van, sort = True)\n",
    "greater_van"
   ]
  },
  {
   "cell_type": "code",
   "execution_count": 735,
   "metadata": {},
   "outputs": [
    {
     "data": {
      "text/plain": [
       "(1363,)"
      ]
     },
     "execution_count": 735,
     "metadata": {},
     "output_type": "execute_result"
    }
   ],
   "source": [
    "# Total Images Available\n",
    "greater_van.image.unique().shape"
   ]
  },
  {
   "cell_type": "markdown",
   "metadata": {},
   "source": [
    "## Merging OSM Transit Data & Wikidata"
   ]
  },
  {
   "cell_type": "code",
   "execution_count": 265,
   "metadata": {},
   "outputs": [],
   "source": [
    "# Checks for the tag\n",
    "def parseTags(tag, string):\n",
    "    if tag.get(string) != None:\n",
    "        return tag.get(string)\n",
    "    return None\n",
    "\n",
    "# Load Transit Data from OSM\n",
    "osm_transit = pd.read_json(\"./OSM_cleaned/transit_only\", lines = False)\n",
    "\n",
    "# Create a WikiData\n",
    "osm_transit['WikiData'] = osm_transit['tags'].apply(parseTags, string = 'wikidata')"
   ]
  },
  {
   "cell_type": "code",
   "execution_count": 267,
   "metadata": {},
   "outputs": [],
   "source": [
    "# Attempt Merging Data from Every Area Requested\n",
    "transit_van = pd.merge(van_data, osm_transit, on = 'WikiData')\n",
    "transit_bc = pd.merge(bc_data, osm_transit, on = 'WikiData')\n",
    "transit_metro = pd.merge(metro_van_data, osm_transit, on = \"WikiData\")\n",
    "transit_burnaby = pd.merge(burnaby_data, osm_transit, on = \"WikiData\")\n",
    "\n",
    "transit_final = pd.concat([transit_van, transit_bc, transit_metro, transit_burnaby], sort = True)"
   ]
  },
  {
   "cell_type": "code",
   "execution_count": 269,
   "metadata": {},
   "outputs": [
    {
     "data": {
      "text/html": [
       "<div>\n",
       "<style scoped>\n",
       "    .dataframe tbody tr th:only-of-type {\n",
       "        vertical-align: middle;\n",
       "    }\n",
       "\n",
       "    .dataframe tbody tr th {\n",
       "        vertical-align: top;\n",
       "    }\n",
       "\n",
       "    .dataframe thead th {\n",
       "        text-align: right;\n",
       "    }\n",
       "</style>\n",
       "<table border=\"1\" class=\"dataframe\">\n",
       "  <thead>\n",
       "    <tr style=\"text-align: right;\">\n",
       "      <th></th>\n",
       "      <th>WikiData</th>\n",
       "      <th>image</th>\n",
       "      <th>lat</th>\n",
       "      <th>lon</th>\n",
       "      <th>name</th>\n",
       "      <th>tags</th>\n",
       "    </tr>\n",
       "  </thead>\n",
       "  <tbody>\n",
       "    <tr>\n",
       "      <th>0</th>\n",
       "      <td>Q1440907</td>\n",
       "      <td>http://commons.wikimedia.org/wiki/Special:File...</td>\n",
       "      <td>49.244208</td>\n",
       "      <td>-123.045922</td>\n",
       "      <td>29th Avenue</td>\n",
       "      <td>{'wheelchair': 'yes', 'alt_name': '29th Avenue...</td>\n",
       "    </tr>\n",
       "    <tr>\n",
       "      <th>1</th>\n",
       "      <td>Q1625437</td>\n",
       "      <td>http://commons.wikimedia.org/wiki/Special:File...</td>\n",
       "      <td>49.285964</td>\n",
       "      <td>-123.112285</td>\n",
       "      <td>Waterfront</td>\n",
       "      <td>{'wheelchair': 'yes', 'alt_name': 'Waterfront ...</td>\n",
       "    </tr>\n",
       "    <tr>\n",
       "      <th>2</th>\n",
       "      <td>Q2153961</td>\n",
       "      <td>http://commons.wikimedia.org/wiki/Special:File...</td>\n",
       "      <td>49.274538</td>\n",
       "      <td>-123.121905</td>\n",
       "      <td>Yaletown–Roundhouse</td>\n",
       "      <td>{'wheelchair': 'yes', 'alt_name': 'Yaletown–Ro...</td>\n",
       "    </tr>\n",
       "    <tr>\n",
       "      <th>4</th>\n",
       "      <td>Q2153968</td>\n",
       "      <td>http://commons.wikimedia.org/wiki/Special:File...</td>\n",
       "      <td>49.282015</td>\n",
       "      <td>-123.118936</td>\n",
       "      <td>Vancouver City Centre</td>\n",
       "      <td>{'subway': 'yes', 'public_transport': 'stop_po...</td>\n",
       "    </tr>\n",
       "    <tr>\n",
       "      <th>6</th>\n",
       "      <td>Q2258039</td>\n",
       "      <td>http://commons.wikimedia.org/wiki/Special:File...</td>\n",
       "      <td>49.249176</td>\n",
       "      <td>-123.115830</td>\n",
       "      <td>King Edward</td>\n",
       "      <td>{'wheelchair': 'yes', 'alt_name': 'King Edward...</td>\n",
       "    </tr>\n",
       "  </tbody>\n",
       "</table>\n",
       "</div>"
      ],
      "text/plain": [
       "   WikiData                                              image        lat  \\\n",
       "0  Q1440907  http://commons.wikimedia.org/wiki/Special:File...  49.244208   \n",
       "1  Q1625437  http://commons.wikimedia.org/wiki/Special:File...  49.285964   \n",
       "2  Q2153961  http://commons.wikimedia.org/wiki/Special:File...  49.274538   \n",
       "4  Q2153968  http://commons.wikimedia.org/wiki/Special:File...  49.282015   \n",
       "6  Q2258039  http://commons.wikimedia.org/wiki/Special:File...  49.249176   \n",
       "\n",
       "          lon                   name  \\\n",
       "0 -123.045922            29th Avenue   \n",
       "1 -123.112285             Waterfront   \n",
       "2 -123.121905    Yaletown–Roundhouse   \n",
       "4 -123.118936  Vancouver City Centre   \n",
       "6 -123.115830            King Edward   \n",
       "\n",
       "                                                tags  \n",
       "0  {'wheelchair': 'yes', 'alt_name': '29th Avenue...  \n",
       "1  {'wheelchair': 'yes', 'alt_name': 'Waterfront ...  \n",
       "2  {'wheelchair': 'yes', 'alt_name': 'Yaletown–Ro...  \n",
       "4  {'subway': 'yes', 'public_transport': 'stop_po...  \n",
       "6  {'wheelchair': 'yes', 'alt_name': 'King Edward...  "
      ]
     },
     "execution_count": 269,
     "metadata": {},
     "output_type": "execute_result"
    }
   ],
   "source": [
    "# Drop Duplicate Entries and Write to a file\n",
    "transit_final = transit_final.drop_duplicates(subset = 'name').drop(['lat_x', 'lon_x', 'Commons_category'], axis = 1)\n",
    "transit_final.columns = ['WikiData', 'image', 'lat', 'lon', 'name', 'tags']\n",
    "pd.DataFrame.to_json(transit_final, 'Prediction Data/subway_final', orient = 'records')\n",
    "transit_final.head(5)"
   ]
  },
  {
   "cell_type": "code",
   "execution_count": 270,
   "metadata": {},
   "outputs": [
    {
     "data": {
      "text/plain": [
       "(23, 6)"
      ]
     },
     "execution_count": 270,
     "metadata": {},
     "output_type": "execute_result"
    }
   ],
   "source": [
    "# Number of Transit locations available as a result of merging\n",
    "transit_final.shape"
   ]
  },
  {
   "cell_type": "markdown",
   "metadata": {},
   "source": [
    "## OSM Enterntainment Data & Wikidata"
   ]
  },
  {
   "cell_type": "code",
   "execution_count": 369,
   "metadata": {},
   "outputs": [],
   "source": [
    "# Load Entertainment Data from OSM\n",
    "osm_ent = pd.read_json(\"./OSM_cleaned/entr_only\")\n",
    "osm_ent['WikiData'] = osm_ent['tags'].apply(parseTags, string = 'wikidata')"
   ]
  },
  {
   "cell_type": "code",
   "execution_count": 370,
   "metadata": {},
   "outputs": [],
   "source": [
    "# Attempt Merging\n",
    "ent_van = pd.merge(van_data, osm_ent, on = 'WikiData')\n",
    "ent_bc = pd.merge(bc_data, osm_ent, on = 'WikiData')\n",
    "ent_metro = pd.merge(metro_van_data, osm_ent, on = \"WikiData\")\n",
    "ent_burnaby = pd.merge(burnaby_data, osm_ent, on = \"WikiData\")\n",
    "\n",
    "# Prepare Frames and drop odd axes\n",
    "ent_van.columns = ['image', 'commons', 'WikiData', 'lat1', 'lon1', 'lat', 'lon', 'amenity', 'name', 'tags']\n",
    "ent_van = ent_van.drop(['lat1', 'lon1', 'commons'],axis = 1)\n",
    "\n",
    "ent_bc.columns = ['image', 'commons', 'WikiData', 'lat1', 'lon1', 'lat', 'lon', 'amenity', 'name', 'tags']\n",
    "ent_bc = ent_bc.drop(['lat1', 'lon1', 'commons'],axis = 1)\n",
    "\n",
    "ent_metro.columns = ['image', 'commons', 'WikiData', 'lat1', 'lon1', 'lat', 'lon', 'amenity', 'name', 'tags']\n",
    "ent_metro = ent_metro.drop(['lat1', 'lon1', 'commons'],axis = 1)\n",
    "\n",
    "ent_burnaby.columns = ['image', 'commons', 'WikiData', 'lat1', 'lon1', 'lat', 'lon', 'amenity', 'name', 'tags']\n",
    "ent_burnaby = ent_burnaby.drop(['lat1', 'lon1', 'commons'],axis = 1)\n",
    "\n",
    "# Assemble the Frame\n",
    "enterntainment_final = pd.concat([ent_van, ent_bc, ent_metro, ent_burnaby, osm_ent], sort = True)\n",
    "enterntainment_final = enterntainment_final.drop_duplicates(subset = 'name')"
   ]
  },
  {
   "cell_type": "code",
   "execution_count": 583,
   "metadata": {},
   "outputs": [
    {
     "data": {
      "text/html": [
       "<div>\n",
       "<style scoped>\n",
       "    .dataframe tbody tr th:only-of-type {\n",
       "        vertical-align: middle;\n",
       "    }\n",
       "\n",
       "    .dataframe tbody tr th {\n",
       "        vertical-align: top;\n",
       "    }\n",
       "\n",
       "    .dataframe thead th {\n",
       "        text-align: right;\n",
       "    }\n",
       "</style>\n",
       "<table border=\"1\" class=\"dataframe\">\n",
       "  <thead>\n",
       "    <tr style=\"text-align: right;\">\n",
       "      <th></th>\n",
       "      <th>WikiData</th>\n",
       "      <th>amenity</th>\n",
       "      <th>image</th>\n",
       "      <th>lat</th>\n",
       "      <th>lon</th>\n",
       "      <th>name</th>\n",
       "      <th>tags</th>\n",
       "    </tr>\n",
       "  </thead>\n",
       "  <tbody>\n",
       "    <tr>\n",
       "      <th>0</th>\n",
       "      <td>Q38377943</td>\n",
       "      <td>theatre</td>\n",
       "      <td>NaN</td>\n",
       "      <td>49.245578</td>\n",
       "      <td>-123.185447</td>\n",
       "      <td>Dunbar Theatre</td>\n",
       "      <td>{'addr:housenumber': '4555', 'addr:street': 'D...</td>\n",
       "    </tr>\n",
       "    <tr>\n",
       "      <th>1</th>\n",
       "      <td>Q38378154</td>\n",
       "      <td>theatre</td>\n",
       "      <td>NaN</td>\n",
       "      <td>49.203711</td>\n",
       "      <td>-123.137523</td>\n",
       "      <td>Metro Theatre</td>\n",
       "      <td>{'addr:housenumber': '1370', 'website': 'https...</td>\n",
       "    </tr>\n",
       "    <tr>\n",
       "      <th>2</th>\n",
       "      <td>Q38378234</td>\n",
       "      <td>theatre</td>\n",
       "      <td>NaN</td>\n",
       "      <td>49.281101</td>\n",
       "      <td>-123.098370</td>\n",
       "      <td>The Rickshaw</td>\n",
       "      <td>{'addr:housenumber': '254', 'website': 'http:/...</td>\n",
       "    </tr>\n",
       "    <tr>\n",
       "      <th>3</th>\n",
       "      <td>Q38378292</td>\n",
       "      <td>cinema</td>\n",
       "      <td>NaN</td>\n",
       "      <td>49.281998</td>\n",
       "      <td>-123.124346</td>\n",
       "      <td>Scotiabank Theatre Vancouver</td>\n",
       "      <td>{'addr:housenumber': '900', 'website': 'https:...</td>\n",
       "    </tr>\n",
       "    <tr>\n",
       "      <th>4</th>\n",
       "      <td>Q38378369</td>\n",
       "      <td>theatre</td>\n",
       "      <td>NaN</td>\n",
       "      <td>49.279991</td>\n",
       "      <td>-123.116458</td>\n",
       "      <td>The Centre For Performing Arts</td>\n",
       "      <td>{'addr:province': 'BC', 'addr:housenumber': '7...</td>\n",
       "    </tr>\n",
       "  </tbody>\n",
       "</table>\n",
       "</div>"
      ],
      "text/plain": [
       "    WikiData  amenity image        lat         lon  \\\n",
       "0  Q38377943  theatre   NaN  49.245578 -123.185447   \n",
       "1  Q38378154  theatre   NaN  49.203711 -123.137523   \n",
       "2  Q38378234  theatre   NaN  49.281101 -123.098370   \n",
       "3  Q38378292   cinema   NaN  49.281998 -123.124346   \n",
       "4  Q38378369  theatre   NaN  49.279991 -123.116458   \n",
       "\n",
       "                             name  \\\n",
       "0                  Dunbar Theatre   \n",
       "1                   Metro Theatre   \n",
       "2                    The Rickshaw   \n",
       "3    Scotiabank Theatre Vancouver   \n",
       "4  The Centre For Performing Arts   \n",
       "\n",
       "                                                tags  \n",
       "0  {'addr:housenumber': '4555', 'addr:street': 'D...  \n",
       "1  {'addr:housenumber': '1370', 'website': 'https...  \n",
       "2  {'addr:housenumber': '254', 'website': 'http:/...  \n",
       "3  {'addr:housenumber': '900', 'website': 'https:...  \n",
       "4  {'addr:province': 'BC', 'addr:housenumber': '7...  "
      ]
     },
     "execution_count": 583,
     "metadata": {},
     "output_type": "execute_result"
    }
   ],
   "source": [
    "# Write to a file\n",
    "pd.DataFrame.to_json(enterntainment_final, 'Prediction Data/entr_final', orient = 'records')\n",
    "enterntainment_final.head(5)"
   ]
  },
  {
   "cell_type": "code",
   "execution_count": 372,
   "metadata": {},
   "outputs": [
    {
     "data": {
      "text/plain": [
       "(78, 7)"
      ]
     },
     "execution_count": 372,
     "metadata": {},
     "output_type": "execute_result"
    }
   ],
   "source": [
    "# Number of Entertainment Locations available as a result of merging\n",
    "enterntainment_final.shape"
   ]
  },
  {
   "cell_type": "markdown",
   "metadata": {},
   "source": [
    "## OSM Food Data & Wikidata\n",
    "Data related to food industry has only two entries that contain a WikiData tag, so we will use OSM data with no images instead"
   ]
  },
  {
   "cell_type": "code",
   "execution_count": 531,
   "metadata": {},
   "outputs": [],
   "source": [
    "# Load Food-Related OSM data\n",
    "osm_food = pd.read_json(\"./OSM_cleaned/food_only\", lines = False)\n",
    "osm_food['WikiData'] = osm_food['tags'].apply(parseTags, string = 'brand:wikidata')"
   ]
  },
  {
   "cell_type": "code",
   "execution_count": 532,
   "metadata": {},
   "outputs": [
    {
     "data": {
      "text/plain": [
       "array([None, 'Q3472954', 'Q894578', 'Q2996960', 'Q7371139', 'Q191615',\n",
       "       'Q17022490', 'Q2372909', 'Q2438391', 'Q8000869', 'Q7995414',\n",
       "       'Q1185675', 'Q1189695', 'Q5503051', 'Q7744066', 'Q16997755',\n",
       "       'Q23891278', 'Q1051593', 'Q7304886', 'Q55629932', 'Q3045312',\n",
       "       'Q5326525', 'Q39054369', 'Q37158', 'Q175106', 'Q16829306',\n",
       "       'Q3114287', 'Q64827032', 'Q64827025', 'Q862180', 'Q38076',\n",
       "       'Q524757', 'Q177054', 'Q244457', 'Q7757289', 'Q7673972',\n",
       "       'Q65148332', 'Q1131810', 'Q1141226', 'Q1936229', 'Q4943796',\n",
       "       'Q2818848', 'Q7013558', 'Q6747622', 'Q5503082', 'Q2759586',\n",
       "       'Q17111672', 'Q839466', 'Q7711610', 'Q3355059', 'Q7673969',\n",
       "       'Q550258', 'Q1089932', 'Q465751', 'Q752941', 'Q1194143',\n",
       "       'Q1393809', 'Q1466184', 'Q28229116', 'Q64876898', 'Q1066777',\n",
       "       'Q66070360', 'Q7352199', 'Q1043486', 'Q1330910', 'Q7132349',\n",
       "       'Q630866', 'Q7049671', 'Q7702453', 'Q64876684', 'Q17020087',\n",
       "       'Q6816528', 'Q584601', 'Q8054358'], dtype=object)"
      ]
     },
     "execution_count": 532,
     "metadata": {},
     "output_type": "execute_result"
    }
   ],
   "source": [
    "# OSM Entries that have a WikiData Tag\n",
    "osm_food['WikiData'].unique()"
   ]
  },
  {
   "cell_type": "code",
   "execution_count": 540,
   "metadata": {},
   "outputs": [],
   "source": [
    "# Attempt Merging\n",
    "food_van = pd.merge(van_data, osm_food, on = 'WikiData')\n",
    "food_van.columns = ['image', 'nameCommon', 'WikiData', 'lat', 'lon', 'lat1', 'lon1', 'amenity', 'name', 'tags']\n",
    "food_van = food_van.drop(['lat1', 'lon1', 'nameCommon'], axis = 1)\n",
    "\n",
    "food_bc = pd.merge(bc_data, osm_food, on = 'WikiData')\n",
    "food_bc.columns = ['image', 'nameCommon', 'WikiData', 'lat', 'lon', 'lat1', 'lon1', 'amenity', 'name', 'tags']\n",
    "food_bc = food_bc.drop(['lat1', 'lon1', 'nameCommon'], axis = 1)\n",
    "\n",
    "food_metro = pd.merge(metro_van_data, osm_food, on = \"WikiData\")\n",
    "food_metro.columns = ['image', 'nameCommon', 'WikiData', 'lat', 'lon', 'lat1', 'lon1', 'amenity', 'name', 'tags']\n",
    "food_metro = food_metro.drop(['lat1', 'lon1', 'nameCommon'], axis = 1)\n",
    "\n",
    "food_burnaby = pd.merge(burnaby_data, osm_food, on = \"WikiData\")\n",
    "food_burnaby.columns = ['image', 'nameCommon', 'WikiData', 'lat', 'lon', 'lat1', 'lon1', 'amenity', 'name', 'tags']\n",
    "food_burnaby = food_burnaby.drop(['lat1', 'lon1', 'nameCommon'], axis = 1)\n",
    "\n",
    "# Assemble the Frame\n",
    "food_final = pd.concat([food_van, food_bc, food_burnaby, food_metro, osm_food], sort = True)\n",
    "food_final = food_final.drop_duplicates(subset = 'name')\n",
    "food_final = food_final.drop('image', axis = 1)\n",
    "food_final['cuisine'] = food_final['tags'].apply(parseTags, string = 'cuisine')"
   ]
  },
  {
   "cell_type": "code",
   "execution_count": 582,
   "metadata": {},
   "outputs": [
    {
     "data": {
      "text/html": [
       "<div>\n",
       "<style scoped>\n",
       "    .dataframe tbody tr th:only-of-type {\n",
       "        vertical-align: middle;\n",
       "    }\n",
       "\n",
       "    .dataframe tbody tr th {\n",
       "        vertical-align: top;\n",
       "    }\n",
       "\n",
       "    .dataframe thead th {\n",
       "        text-align: right;\n",
       "    }\n",
       "</style>\n",
       "<table border=\"1\" class=\"dataframe\">\n",
       "  <thead>\n",
       "    <tr style=\"text-align: right;\">\n",
       "      <th></th>\n",
       "      <th>WikiData</th>\n",
       "      <th>amenity</th>\n",
       "      <th>lat</th>\n",
       "      <th>lon</th>\n",
       "      <th>name</th>\n",
       "      <th>tags</th>\n",
       "      <th>cuisine</th>\n",
       "    </tr>\n",
       "  </thead>\n",
       "  <tbody>\n",
       "    <tr>\n",
       "      <th>13</th>\n",
       "      <td>None</td>\n",
       "      <td>restaurant</td>\n",
       "      <td>49.126650</td>\n",
       "      <td>-123.182470</td>\n",
       "      <td>Best Bite Indian Cuisine</td>\n",
       "      <td>{'addr:housenumber': '10-3891', 'phone': '+1-6...</td>\n",
       "      <td>indian</td>\n",
       "    </tr>\n",
       "    <tr>\n",
       "      <th>58</th>\n",
       "      <td>None</td>\n",
       "      <td>restaurant</td>\n",
       "      <td>49.171276</td>\n",
       "      <td>-123.134873</td>\n",
       "      <td>Oriental Rice Noodle</td>\n",
       "      <td>{'addr:housenumber': '8100', 'phone': '+1-604-...</td>\n",
       "      <td>chinese</td>\n",
       "    </tr>\n",
       "    <tr>\n",
       "      <th>65</th>\n",
       "      <td>Q3472954</td>\n",
       "      <td>restaurant</td>\n",
       "      <td>49.132705</td>\n",
       "      <td>-123.099186</td>\n",
       "      <td>Nando's</td>\n",
       "      <td>{'brand:wikidata': 'Q3472954', 'cuisine': 'chi...</td>\n",
       "      <td>chicken;portuguese</td>\n",
       "    </tr>\n",
       "    <tr>\n",
       "      <th>66</th>\n",
       "      <td>Q894578</td>\n",
       "      <td>restaurant</td>\n",
       "      <td>49.133010</td>\n",
       "      <td>-123.095536</td>\n",
       "      <td>Boston Pizza</td>\n",
       "      <td>{'brand:wikidata': 'Q894578', 'cuisine': 'pizz...</td>\n",
       "      <td>pizza</td>\n",
       "    </tr>\n",
       "    <tr>\n",
       "      <th>121</th>\n",
       "      <td>None</td>\n",
       "      <td>restaurant</td>\n",
       "      <td>49.266575</td>\n",
       "      <td>-123.103744</td>\n",
       "      <td>Peaceful Restaurant</td>\n",
       "      <td>{'opening_hours': 'Su-Th 11:00-21:30; Fr-Sa 11...</td>\n",
       "      <td>None</td>\n",
       "    </tr>\n",
       "  </tbody>\n",
       "</table>\n",
       "</div>"
      ],
      "text/plain": [
       "     WikiData     amenity        lat         lon                      name  \\\n",
       "13       None  restaurant  49.126650 -123.182470  Best Bite Indian Cuisine   \n",
       "58       None  restaurant  49.171276 -123.134873      Oriental Rice Noodle   \n",
       "65   Q3472954  restaurant  49.132705 -123.099186                   Nando's   \n",
       "66    Q894578  restaurant  49.133010 -123.095536              Boston Pizza   \n",
       "121      None  restaurant  49.266575 -123.103744       Peaceful Restaurant   \n",
       "\n",
       "                                                  tags             cuisine  \n",
       "13   {'addr:housenumber': '10-3891', 'phone': '+1-6...              indian  \n",
       "58   {'addr:housenumber': '8100', 'phone': '+1-604-...             chinese  \n",
       "65   {'brand:wikidata': 'Q3472954', 'cuisine': 'chi...  chicken;portuguese  \n",
       "66   {'brand:wikidata': 'Q894578', 'cuisine': 'pizz...               pizza  \n",
       "121  {'opening_hours': 'Su-Th 11:00-21:30; Fr-Sa 11...                None  "
      ]
     },
     "execution_count": 582,
     "metadata": {},
     "output_type": "execute_result"
    }
   ],
   "source": [
    "food_final.head(5)"
   ]
  },
  {
   "cell_type": "code",
   "execution_count": 544,
   "metadata": {},
   "outputs": [],
   "source": [
    "# Write to a file\n",
    "pd.DataFrame.to_json(food_final, 'Prediction Data/food_final')"
   ]
  },
  {
   "cell_type": "code",
   "execution_count": 543,
   "metadata": {},
   "outputs": [
    {
     "data": {
      "text/plain": [
       "(3157, 7)"
      ]
     },
     "execution_count": 543,
     "metadata": {},
     "output_type": "execute_result"
    }
   ],
   "source": [
    "# Number of Food-Related Entities available as a result of merging\n",
    "food_final.shape"
   ]
  },
  {
   "cell_type": "markdown",
   "metadata": {},
   "source": [
    "## OSM Nightlife & Wikidata\n",
    "Nightlife-Related data only has 2 unique entries with a WikiData tag.<br>\n",
    "There is no way to augment data without having an attribute to join on.\n",
    "\n",
    "Using plain OSM data instead."
   ]
  },
  {
   "cell_type": "code",
   "execution_count": 577,
   "metadata": {},
   "outputs": [],
   "source": [
    "# Load Nightlife-Related OSM data\n",
    "osm_night = pd.read_json(\"./OSM_cleaned/night_only\", lines = False)\n",
    "osm_night['WikiData'] = osm_night['tags'].apply(parseTags, string = 'wikidata')"
   ]
  },
  {
   "cell_type": "code",
   "execution_count": 578,
   "metadata": {},
   "outputs": [
    {
     "data": {
      "text/plain": [
       "array([None, 'Q5153212', 'Q5060558'], dtype=object)"
      ]
     },
     "execution_count": 578,
     "metadata": {},
     "output_type": "execute_result"
    }
   ],
   "source": [
    "# Assert these are Only Tags found in OSM data.\n",
    "osm_night['WikiData'].unique()"
   ]
  },
  {
   "cell_type": "code",
   "execution_count": 579,
   "metadata": {},
   "outputs": [],
   "source": [
    "# Aborted as we lack the attribute to join on.\n",
    "\n",
    "# night_only_van = pd.merge(van_data, osm_night, on = 'WikiData')\n",
    "# night_only_bc = pd.merge(bc_data, osm_night, on = 'WikiData')\n",
    "# night_only_metro = pd.merge(metro_van_data, osm_night, on = \"WikiData\")\n",
    "# night_only_burnaby = pd.merge(burnaby_data, osm_night, on = \"WikiData\")\n",
    "\n",
    "# night_final = pd.concat([night_only_bc, night_only_burnaby, night_only_metro, night_only_van], sort = True)\n",
    "# night_final = night_final.drop_duplicates(subset = 'name').drop(['lat_x', 'lon_x', 'Commons_category'], axis = 1)"
   ]
  },
  {
   "cell_type": "code",
   "execution_count": 581,
   "metadata": {},
   "outputs": [
    {
     "data": {
      "text/html": [
       "<div>\n",
       "<style scoped>\n",
       "    .dataframe tbody tr th:only-of-type {\n",
       "        vertical-align: middle;\n",
       "    }\n",
       "\n",
       "    .dataframe tbody tr th {\n",
       "        vertical-align: top;\n",
       "    }\n",
       "\n",
       "    .dataframe thead th {\n",
       "        text-align: right;\n",
       "    }\n",
       "</style>\n",
       "<table border=\"1\" class=\"dataframe\">\n",
       "  <thead>\n",
       "    <tr style=\"text-align: right;\">\n",
       "      <th></th>\n",
       "      <th>lat</th>\n",
       "      <th>lon</th>\n",
       "      <th>amenity</th>\n",
       "      <th>name</th>\n",
       "      <th>tags</th>\n",
       "    </tr>\n",
       "  </thead>\n",
       "  <tbody>\n",
       "    <tr>\n",
       "      <th>878</th>\n",
       "      <td>49.275391</td>\n",
       "      <td>-123.109640</td>\n",
       "      <td>nightclub</td>\n",
       "      <td>Privé</td>\n",
       "      <td>{}</td>\n",
       "    </tr>\n",
       "    <tr>\n",
       "      <th>2102</th>\n",
       "      <td>49.105807</td>\n",
       "      <td>-122.660350</td>\n",
       "      <td>nightclub</td>\n",
       "      <td>Gabby's Country Cabaret</td>\n",
       "      <td>{'name:en': 'Gabby's Country Cabaret'}</td>\n",
       "    </tr>\n",
       "    <tr>\n",
       "      <th>3484</th>\n",
       "      <td>49.280145</td>\n",
       "      <td>-123.131354</td>\n",
       "      <td>nightclub</td>\n",
       "      <td>Playhouse Nightclub</td>\n",
       "      <td>{'addr:housenumber': '1240', 'addr:street': 'T...</td>\n",
       "    </tr>\n",
       "    <tr>\n",
       "      <th>3485</th>\n",
       "      <td>49.279385</td>\n",
       "      <td>-123.129915</td>\n",
       "      <td>nightclub</td>\n",
       "      <td>Celebrities</td>\n",
       "      <td>{'addr:housenumber': '1022', 'addr:street': 'D...</td>\n",
       "    </tr>\n",
       "    <tr>\n",
       "      <th>4679</th>\n",
       "      <td>49.277291</td>\n",
       "      <td>-123.125726</td>\n",
       "      <td>nightclub</td>\n",
       "      <td>Aura</td>\n",
       "      <td>{'addr:housenumber': '1180', 'website': 'https...</td>\n",
       "    </tr>\n",
       "  </tbody>\n",
       "</table>\n",
       "</div>"
      ],
      "text/plain": [
       "            lat         lon    amenity                     name  \\\n",
       "878   49.275391 -123.109640  nightclub                    Privé   \n",
       "2102  49.105807 -122.660350  nightclub  Gabby's Country Cabaret   \n",
       "3484  49.280145 -123.131354  nightclub      Playhouse Nightclub   \n",
       "3485  49.279385 -123.129915  nightclub              Celebrities   \n",
       "4679  49.277291 -123.125726  nightclub                     Aura   \n",
       "\n",
       "                                                   tags  \n",
       "878                                                  {}  \n",
       "2102             {'name:en': 'Gabby's Country Cabaret'}  \n",
       "3484  {'addr:housenumber': '1240', 'addr:street': 'T...  \n",
       "3485  {'addr:housenumber': '1022', 'addr:street': 'D...  \n",
       "4679  {'addr:housenumber': '1180', 'website': 'https...  "
      ]
     },
     "execution_count": 581,
     "metadata": {},
     "output_type": "execute_result"
    }
   ],
   "source": [
    "# Assemble the Frame and Write to a File\n",
    "night_final = osm_night.drop('WikiData', axis = 1)\n",
    "pd.DataFrame.to_json(night_final, 'Prediction Data/night_final')\n",
    "night_final.head(5)"
   ]
  },
  {
   "cell_type": "code",
   "execution_count": 575,
   "metadata": {},
   "outputs": [
    {
     "data": {
      "text/plain": [
       "(380, 5)"
      ]
     },
     "execution_count": 575,
     "metadata": {},
     "output_type": "execute_result"
    }
   ],
   "source": [
    "# Number of Nightlife-Related entities available.\n",
    "night_final.shape"
   ]
  },
  {
   "cell_type": "markdown",
   "metadata": {},
   "source": [
    "## OSM Historic spots & Wikidata\n",
    "Historic-Related data only has 3 entries with WikiData tags attached.<br> So we will use original OSM data."
   ]
  },
  {
   "cell_type": "code",
   "execution_count": 586,
   "metadata": {},
   "outputs": [],
   "source": [
    "# Load Historic-Related OSM data\n",
    "osm_hist = pd.read_json(\"./OSM_cleaned/historic_only\", lines = False)\n",
    "osm_hist['WikiData'] = osm_hist['tags'].apply(parseTags, string = 'wikidata')"
   ]
  },
  {
   "cell_type": "code",
   "execution_count": 590,
   "metadata": {},
   "outputs": [],
   "source": [
    "# Aborted due to lack of attributes to join on\n",
    "\n",
    "# hist_van = pd.merge(van_data, osm_hist, on = 'WikiData')\n",
    "# hist_bc = pd.merge(bc_data, osm_hist, on = 'WikiData')\n",
    "# hist_metro = pd.merge(metro_van_data, osm_hist, on = \"WikiData\")\n",
    "# hist_burnaby = pd.merge(burnaby_data, osm_hist, on = \"WikiData\")\n",
    "# \n",
    "# hist_final = pd.concat([hist_van, hist_bc, hist_metro, hist_burnaby], sort = True)\n",
    "# hist_final = hist_final.drop_duplicates(subset = 'name').drop(['lat_x', 'lon_x', 'Commons_category'], axis = 1)"
   ]
  },
  {
   "cell_type": "code",
   "execution_count": 593,
   "metadata": {},
   "outputs": [
    {
     "data": {
      "text/html": [
       "<div>\n",
       "<style scoped>\n",
       "    .dataframe tbody tr th:only-of-type {\n",
       "        vertical-align: middle;\n",
       "    }\n",
       "\n",
       "    .dataframe tbody tr th {\n",
       "        vertical-align: top;\n",
       "    }\n",
       "\n",
       "    .dataframe thead th {\n",
       "        text-align: right;\n",
       "    }\n",
       "</style>\n",
       "<table border=\"1\" class=\"dataframe\">\n",
       "  <thead>\n",
       "    <tr style=\"text-align: right;\">\n",
       "      <th></th>\n",
       "      <th>lat</th>\n",
       "      <th>lon</th>\n",
       "      <th>name</th>\n",
       "      <th>tags</th>\n",
       "      <th>type</th>\n",
       "    </tr>\n",
       "  </thead>\n",
       "  <tbody>\n",
       "    <tr>\n",
       "      <th>123</th>\n",
       "      <td>49.201003</td>\n",
       "      <td>-122.911255</td>\n",
       "      <td>\"Wait for Me Daddy\" War Memorial Sculpture</td>\n",
       "      <td>{'website_1': 'https://www.newwestcity.ca/publ...</td>\n",
       "      <td>monument</td>\n",
       "    </tr>\n",
       "    <tr>\n",
       "      <th>583</th>\n",
       "      <td>49.367672</td>\n",
       "      <td>-123.078425</td>\n",
       "      <td>F-86 Sabre Jet Crash Site Memorial</td>\n",
       "      <td>{'historic': 'memorial'}</td>\n",
       "      <td>memorial</td>\n",
       "    </tr>\n",
       "    <tr>\n",
       "      <th>1304</th>\n",
       "      <td>49.115089</td>\n",
       "      <td>-122.904930</td>\n",
       "      <td>Water Tower</td>\n",
       "      <td>{'historic': 'ruins'}</td>\n",
       "      <td>ruins</td>\n",
       "    </tr>\n",
       "    <tr>\n",
       "      <th>1408</th>\n",
       "      <td>49.198302</td>\n",
       "      <td>-122.594237</td>\n",
       "      <td>Heritage Area</td>\n",
       "      <td>{'addr:housenumber': '10749', 'historic': 'yes...</td>\n",
       "      <td>yes</td>\n",
       "    </tr>\n",
       "    <tr>\n",
       "      <th>1426</th>\n",
       "      <td>49.279851</td>\n",
       "      <td>-123.108462</td>\n",
       "      <td>International Village Globe</td>\n",
       "      <td>{'historic': 'monument'}</td>\n",
       "      <td>monument</td>\n",
       "    </tr>\n",
       "  </tbody>\n",
       "</table>\n",
       "</div>"
      ],
      "text/plain": [
       "            lat         lon                                        name  \\\n",
       "123   49.201003 -122.911255  \"Wait for Me Daddy\" War Memorial Sculpture   \n",
       "583   49.367672 -123.078425          F-86 Sabre Jet Crash Site Memorial   \n",
       "1304  49.115089 -122.904930                                 Water Tower   \n",
       "1408  49.198302 -122.594237                               Heritage Area   \n",
       "1426  49.279851 -123.108462                 International Village Globe   \n",
       "\n",
       "                                                   tags      type  \n",
       "123   {'website_1': 'https://www.newwestcity.ca/publ...  monument  \n",
       "583                            {'historic': 'memorial'}  memorial  \n",
       "1304                              {'historic': 'ruins'}     ruins  \n",
       "1408  {'addr:housenumber': '10749', 'historic': 'yes...       yes  \n",
       "1426                           {'historic': 'monument'}  monument  "
      ]
     },
     "execution_count": 593,
     "metadata": {},
     "output_type": "execute_result"
    }
   ],
   "source": [
    "# Assemble the Frame and Write to a file.\n",
    "hist_final = osm_hist.drop('WikiData', axis = 1)\n",
    "hist_final.columns = ['lat', 'lon', 'name', 'tags', 'type']\n",
    "pd.DataFrame.to_json(hist_final, 'Prediction Data/hist_final')\n",
    "hist_final.head(5)"
   ]
  },
  {
   "cell_type": "code",
   "execution_count": 595,
   "metadata": {},
   "outputs": [
    {
     "data": {
      "text/plain": [
       "(200, 5)"
      ]
     },
     "execution_count": 595,
     "metadata": {},
     "output_type": "execute_result"
    }
   ],
   "source": [
    "# Number of Historic Spots available.\n",
    "hist_final.shape"
   ]
  },
  {
   "cell_type": "markdown",
   "metadata": {},
   "source": [
    "## OSM Tourism data & Wikidata"
   ]
  },
  {
   "cell_type": "code",
   "execution_count": 687,
   "metadata": {},
   "outputs": [],
   "source": [
    "# Load Tourism-Related OSM data\n",
    "osm_tourism = pd.read_json(\"./OSM_cleaned/tourism_only\", lines = False)\n",
    "osm_tourism['WikiData'] = osm_tourism['tags'].apply(parseTags, string = 'wikidata')"
   ]
  },
  {
   "cell_type": "code",
   "execution_count": 688,
   "metadata": {},
   "outputs": [
    {
     "data": {
      "text/plain": [
       "array([None, 'Q27919857', 'Q4244994', 'Q841926', 'Q1224775', 'Q14874629',\n",
       "       'Q7731049', 'Q14874772', 'Q14874600', 'Q7099175', 'Q5564477',\n",
       "       'Q2510009', 'Q14874771', 'Q16967365', 'Q7230805', 'Q17118059',\n",
       "       'Q2411231', 'Q5377412', 'Q867340'], dtype=object)"
      ]
     },
     "execution_count": 688,
     "metadata": {},
     "output_type": "execute_result"
    }
   ],
   "source": [
    "# Since there are just a few tagged entries, we will join the images (if any) for these entries\n",
    "osm_tourism.WikiData.unique()"
   ]
  },
  {
   "cell_type": "code",
   "execution_count": 691,
   "metadata": {},
   "outputs": [],
   "source": [
    "# Prepare the Frame\n",
    "osm_tourism.columns = ['lat', 'lon', 'name', 'tags', 'type', 'WikiData']\n",
    "tour_final = osm_tourism.drop('WikiData', axis = 1)"
   ]
  },
  {
   "cell_type": "code",
   "execution_count": 693,
   "metadata": {},
   "outputs": [
    {
     "data": {
      "text/html": [
       "<div>\n",
       "<style scoped>\n",
       "    .dataframe tbody tr th:only-of-type {\n",
       "        vertical-align: middle;\n",
       "    }\n",
       "\n",
       "    .dataframe tbody tr th {\n",
       "        vertical-align: top;\n",
       "    }\n",
       "\n",
       "    .dataframe thead th {\n",
       "        text-align: right;\n",
       "    }\n",
       "</style>\n",
       "<table border=\"1\" class=\"dataframe\">\n",
       "  <thead>\n",
       "    <tr style=\"text-align: right;\">\n",
       "      <th></th>\n",
       "      <th>lat</th>\n",
       "      <th>lon</th>\n",
       "      <th>name</th>\n",
       "      <th>tags</th>\n",
       "      <th>type</th>\n",
       "    </tr>\n",
       "  </thead>\n",
       "  <tbody>\n",
       "    <tr>\n",
       "      <th>0</th>\n",
       "      <td>49.279297</td>\n",
       "      <td>-122.920352</td>\n",
       "      <td>Simon Fraser University</td>\n",
       "      <td>{'tourism': 'information', 'information': 'off...</td>\n",
       "      <td>information</td>\n",
       "    </tr>\n",
       "    <tr>\n",
       "      <th>1</th>\n",
       "      <td>49.153774</td>\n",
       "      <td>-122.525594</td>\n",
       "      <td>Eagle Acres Dairy</td>\n",
       "      <td>{'tourism': 'attraction', 'addr:housenumber': ...</td>\n",
       "      <td>attraction</td>\n",
       "    </tr>\n",
       "    <tr>\n",
       "      <th>2</th>\n",
       "      <td>49.279103</td>\n",
       "      <td>-123.123671</td>\n",
       "      <td>HI Vancouver Central</td>\n",
       "      <td>{'guest_house': 'hostel', 'addr:housenumber': ...</td>\n",
       "      <td>hostel</td>\n",
       "    </tr>\n",
       "    <tr>\n",
       "      <th>37</th>\n",
       "      <td>49.273064</td>\n",
       "      <td>-123.102547</td>\n",
       "      <td>Solar Bike Tree</td>\n",
       "      <td>{'tourism': 'artwork'}</td>\n",
       "      <td>artwork</td>\n",
       "    </tr>\n",
       "    <tr>\n",
       "      <th>76</th>\n",
       "      <td>49.064828</td>\n",
       "      <td>-122.430143</td>\n",
       "      <td>8</td>\n",
       "      <td>{'tourism': 'information', 'information': 'sig...</td>\n",
       "      <td>information</td>\n",
       "    </tr>\n",
       "    <tr>\n",
       "      <th>...</th>\n",
       "      <td>...</td>\n",
       "      <td>...</td>\n",
       "      <td>...</td>\n",
       "      <td>...</td>\n",
       "      <td>...</td>\n",
       "    </tr>\n",
       "    <tr>\n",
       "      <th>7794</th>\n",
       "      <td>49.342984</td>\n",
       "      <td>-122.832763</td>\n",
       "      <td>Barton Point</td>\n",
       "      <td>{'tourism': 'viewpoint'}</td>\n",
       "      <td>viewpoint</td>\n",
       "    </tr>\n",
       "    <tr>\n",
       "      <th>7795</th>\n",
       "      <td>49.340373</td>\n",
       "      <td>-122.875030</td>\n",
       "      <td>Punta Del Este (East Point)</td>\n",
       "      <td>{'tourism': 'viewpoint'}</td>\n",
       "      <td>viewpoint</td>\n",
       "    </tr>\n",
       "    <tr>\n",
       "      <th>7796</th>\n",
       "      <td>49.347591</td>\n",
       "      <td>-122.879524</td>\n",
       "      <td>Vista #2</td>\n",
       "      <td>{'tourism': 'viewpoint'}</td>\n",
       "      <td>viewpoint</td>\n",
       "    </tr>\n",
       "    <tr>\n",
       "      <th>7797</th>\n",
       "      <td>49.367366</td>\n",
       "      <td>-122.851936</td>\n",
       "      <td>Swan Falls</td>\n",
       "      <td>{'tourism': 'viewpoint'}</td>\n",
       "      <td>viewpoint</td>\n",
       "    </tr>\n",
       "    <tr>\n",
       "      <th>7798</th>\n",
       "      <td>49.351052</td>\n",
       "      <td>-122.736745</td>\n",
       "      <td>Coquitlam Lake Viewpoint</td>\n",
       "      <td>{'tourism': 'viewpoint'}</td>\n",
       "      <td>viewpoint</td>\n",
       "    </tr>\n",
       "  </tbody>\n",
       "</table>\n",
       "<p>690 rows × 5 columns</p>\n",
       "</div>"
      ],
      "text/plain": [
       "            lat         lon                         name  \\\n",
       "0     49.279297 -122.920352      Simon Fraser University   \n",
       "1     49.153774 -122.525594            Eagle Acres Dairy   \n",
       "2     49.279103 -123.123671         HI Vancouver Central   \n",
       "37    49.273064 -123.102547              Solar Bike Tree   \n",
       "76    49.064828 -122.430143                            8   \n",
       "...         ...         ...                          ...   \n",
       "7794  49.342984 -122.832763                 Barton Point   \n",
       "7795  49.340373 -122.875030  Punta Del Este (East Point)   \n",
       "7796  49.347591 -122.879524                     Vista #2   \n",
       "7797  49.367366 -122.851936                   Swan Falls   \n",
       "7798  49.351052 -122.736745     Coquitlam Lake Viewpoint   \n",
       "\n",
       "                                                   tags         type  \n",
       "0     {'tourism': 'information', 'information': 'off...  information  \n",
       "1     {'tourism': 'attraction', 'addr:housenumber': ...   attraction  \n",
       "2     {'guest_house': 'hostel', 'addr:housenumber': ...       hostel  \n",
       "37                               {'tourism': 'artwork'}      artwork  \n",
       "76    {'tourism': 'information', 'information': 'sig...  information  \n",
       "...                                                 ...          ...  \n",
       "7794                           {'tourism': 'viewpoint'}    viewpoint  \n",
       "7795                           {'tourism': 'viewpoint'}    viewpoint  \n",
       "7796                           {'tourism': 'viewpoint'}    viewpoint  \n",
       "7797                           {'tourism': 'viewpoint'}    viewpoint  \n",
       "7798                           {'tourism': 'viewpoint'}    viewpoint  \n",
       "\n",
       "[690 rows x 5 columns]"
      ]
     },
     "execution_count": 693,
     "metadata": {},
     "output_type": "execute_result"
    }
   ],
   "source": [
    "# Write to a File\n",
    "pd.DataFrame.to_json(tour_final, 'Prediction Data/tour_final')\n",
    "tour_final"
   ]
  },
  {
   "cell_type": "markdown",
   "metadata": {},
   "source": [
    "## Results of Dataset Augmentation\n",
    "\n",
    "Unfortunately, too many entries in our OSM data have no Wikidata Tag, thus we can not get results we hoped for in terms of augmenting our initial dataset with Images.\n",
    "\n",
    "The queried WikiData had a total of 1158 images available.\n",
    "\n",
    "Result:\n",
    "- Food - No images added\n",
    "- Night - No images added\n",
    "- Tourism - No images added\n",
    "- Historical - No images added\n",
    "\n",
    "Even though Augmentation did not succeed, the fact that entries exist in both datasets verifies their validity<br>\n",
    "i.e Asserts there are not only community added entries."
   ]
  }
 ],
 "metadata": {
  "kernelspec": {
   "display_name": "Python 3",
   "language": "python",
   "name": "python3"
  },
  "language_info": {
   "codemirror_mode": {
    "name": "ipython",
    "version": 3
   },
   "file_extension": ".py",
   "mimetype": "text/x-python",
   "name": "python",
   "nbconvert_exporter": "python",
   "pygments_lexer": "ipython3",
   "version": "3.8.5"
  }
 },
 "nbformat": 4,
 "nbformat_minor": 4
}
