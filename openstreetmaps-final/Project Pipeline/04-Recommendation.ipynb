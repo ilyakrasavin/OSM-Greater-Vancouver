{
 "cells": [
  {
   "cell_type": "code",
   "execution_count": 1,
   "metadata": {},
   "outputs": [],
   "source": [
    "import pandas as pd\n",
    "import numpy as np\n",
    "import PIL\n",
    "import folium\n",
    "import utilHyp"
   ]
  },
  {
   "cell_type": "code",
   "execution_count": 2,
   "metadata": {},
   "outputs": [],
   "source": [
    "def haversineFunction(cord1, cord2):\n",
    "\n",
    "    p1 = np.sin((cord2[0]-cord1[0])/2)**2\n",
    "    p2 = np.cos(cord1[0])\n",
    "    p3 = np.cos(cord2[0])\n",
    "    p4 = np.sin((cord2[1]-cord1[1])/2)**2\n",
    "    p5 = p2 * p3 * p4\n",
    "    h = p1 + p5\n",
    "\n",
    "    r = 6371\n",
    "    return(2*r*np.arcsin(np.sqrt(h)))\n"
   ]
  },
  {
   "cell_type": "markdown",
   "metadata": {},
   "source": [
    "### Recommendation\n",
    "\n",
    "We will recommend the spots of interest to a user based on location where User's walk was pictured and the following information:\n",
    "\n",
    "1.Transportation Mode \n",
    "- Walk\n",
    "- Transit\n",
    "- Driving\n",
    "\n",
    "2.User's Interests\n",
    "- Enterntainment\n",
    "- Night Out & Drink\n",
    "- Food\n",
    "- Tourism & Sightseeing\n",
    "- Historic Sight"
   ]
  },
  {
   "cell_type": "markdown",
   "metadata": {},
   "source": [
    "Taking a final look at processed data is needed to determine what and where we recommend."
   ]
  },
  {
   "cell_type": "code",
   "execution_count": 3,
   "metadata": {},
   "outputs": [],
   "source": [
    "tourism = pd.read_json(\"./Prediction Data/tour_final\")\n",
    "historic = pd.read_json(\"./Prediction Data/hist_final\")\n",
    "food = pd.read_json(\"./Prediction Data/food_final\")\n",
    "night = pd.read_json(\"./Prediction Data/night_final\")\n",
    "subway = pd.read_json(\"./Prediction Data/subway_final\")\n",
    "enterntainment = pd.read_json(\"./Prediction Data/entr_final\")"
   ]
  },
  {
   "cell_type": "code",
   "execution_count": 4,
   "metadata": {},
   "outputs": [
    {
     "data": {
      "text/plain": [
       "array(['information', 'attraction', 'hostel', 'artwork', 'guest_house',\n",
       "       'museum', 'camp_site', 'hotel', 'viewpoint', 'apartment',\n",
       "       'picnic_site', 'gallery', 'theme_park', 'motel', 'caravan_site',\n",
       "       'winery', 'lookout', 'Plane_Spotting_Platform', 'house'],\n",
       "      dtype=object)"
      ]
     },
     "execution_count": 4,
     "metadata": {},
     "output_type": "execute_result"
    }
   ],
   "source": [
    "tourism.type.unique()"
   ]
  },
  {
   "cell_type": "code",
   "execution_count": 5,
   "metadata": {},
   "outputs": [
    {
     "data": {
      "text/plain": [
       "array(['monument', 'memorial', 'ruins', 'yes', 'marker', 'aircraft',\n",
       "       'boundary_stone', 'milepost', 'milestone', 'building', 'tree',\n",
       "       'church', 'ship', 'locomotive'], dtype=object)"
      ]
     },
     "execution_count": 5,
     "metadata": {},
     "output_type": "execute_result"
    }
   ],
   "source": [
    "historic.type.unique()"
   ]
  },
  {
   "cell_type": "code",
   "execution_count": 6,
   "metadata": {},
   "outputs": [
    {
     "data": {
      "text/plain": [
       "array(['restaurant', 'cafe', 'fast_food', 'ice_cream', 'bistro',\n",
       "       'food_court'], dtype=object)"
      ]
     },
     "execution_count": 6,
     "metadata": {},
     "output_type": "execute_result"
    }
   ],
   "source": [
    "food.amenity.unique()"
   ]
  },
  {
   "cell_type": "code",
   "execution_count": 7,
   "metadata": {},
   "outputs": [
    {
     "data": {
      "text/plain": [
       "array(['nightclub', 'pub', 'bar', 'events_venue'], dtype=object)"
      ]
     },
     "execution_count": 7,
     "metadata": {},
     "output_type": "execute_result"
    }
   ],
   "source": [
    "night.amenity.unique()"
   ]
  },
  {
   "cell_type": "code",
   "execution_count": 8,
   "metadata": {},
   "outputs": [
    {
     "data": {
      "text/plain": [
       "array(['theatre', 'cinema', 'arts_centre', 'townhall', 'gambling',\n",
       "       'leisure', 'internet_cafe', 'lounge', 'casino'], dtype=object)"
      ]
     },
     "execution_count": 8,
     "metadata": {},
     "output_type": "execute_result"
    }
   ],
   "source": [
    "enterntainment.amenity.unique()"
   ]
  },
  {
   "cell_type": "code",
   "execution_count": null,
   "metadata": {},
   "outputs": [],
   "source": []
  },
  {
   "cell_type": "markdown",
   "metadata": {},
   "source": [
    "## Recommendation System Initial Setup\n",
    "- Take mode of tour & transportation\n",
    "- Reccommend spots close depending on interest & distance!\n",
    "- Embed images (if exist) into spot 'pop ups'"
   ]
  },
  {
   "cell_type": "code",
   "execution_count": 10,
   "metadata": {},
   "outputs": [],
   "source": [
    "def setup(tour_mode, hints, move_mode, imageWalk):\n",
    "    if tour_mode.lower() == 'tourism':\n",
    "        plotmap('tourism', hints, move_mode, imageWalk)\n",
    "    elif tour_mode.lower() == 'historic':\n",
    "        plotmap('historic', hints, move_mode, imageWalk)\n",
    "    elif tour_mode.lower() == 'food':\n",
    "        plotmap('food', hints, move_mode, imageWalk)\n",
    "    elif tour_mode.lower() == 'night':\n",
    "        plotmap('night', hints, move_mode, imageWalk)\n",
    "    elif tour_mode.lower() == 'enterntainment':\n",
    "        plotmap('enterntainment', hints, enterntainment, imageWalk)"
   ]
  },
  {
   "cell_type": "code",
   "execution_count": 69,
   "metadata": {},
   "outputs": [],
   "source": [
    "def plotmap(data, hints, move_mode, user_feed):\n",
    "    \n",
    "    map_full = folium.Map(\n",
    "        location=[49.28, -123.12],\n",
    "        zoom_start = 12\n",
    "    )\n",
    "    \n",
    "    if move_mode == 'walk':\n",
    "        threshold = 500/10\n",
    "    elif move_mode == 'transit':\n",
    "        threshold = 1500/10\n",
    "    elif move_mode == 'driving':\n",
    "        threshold = 3000/10\n",
    "    \n",
    "    \n",
    "    # Find recommendation for each image on a path.\n",
    "    for each in user_feed:\n",
    "\n",
    "        # Mark User's Location\n",
    "        # WHERE IS THE USER CLOSE TO?\n",
    "        folium.Marker([user_feed[0], user_feed[1]], popup = \"YOU\", icon = folium.Icon(color = 'green')).add_to(map_full)\n",
    "\n",
    "        # Show a User closest subway stations if traveling by transit.\n",
    "        if(move_mode == 'transit'):\n",
    "            subway_results = subway\n",
    "            subway_results['distance'] = haversineFunction([subway_results['lat'], subway_results['lon']], user_feed)\n",
    "            subway_results = subway_results[subway_results['distance'] < threshold]\n",
    "            subway_results = subway_results.iterrows()\n",
    "            for idx, spot in subway_results:\n",
    "                folium.Marker([spot['lat'], spot['lon']], popup = spot['name'], icon = folium.Icon(color = 'blue')).add_to(map_full)\n",
    "\n",
    "        \n",
    "        if data == 'tourism':\n",
    "                        \n",
    "            # Recommend everything relevant from the category if no hints given.\n",
    "            if(len(hints) == 0):\n",
    "                results = tourism\n",
    "                results['distance'] = haversineFunction([results['lat'], results['lon']], user_feed)\n",
    "                results = results[results['distance'] < threshold]\n",
    "                results = results.iterrows()\n",
    "                for idx, spot in results:\n",
    "                    folium.Marker([spot['lat'], spot['lon']], popup = spot['name'], icon = folium.Icon(color = 'red')).add_to(map_full)\n",
    "\n",
    "            # Priority Recommendations. Hints.\n",
    "            elif(len(hints) > 0):\n",
    "                for hint in hints:\n",
    "                    results = tourism[tourism['type'] == hint]\n",
    "                    results['distance'] = haversineFunction([results['lat'], results['lon']], user_feed)\n",
    "                    results = results[results['distance'] < threshold]\n",
    "                    results = results.iterrows()\n",
    "                    for idx, spot in results:\n",
    "                        folium.Marker([spot['lat'], spot['lon']], popup = spot['name'], icon = folium.Icon(color = 'red')).add_to(map_full)\n",
    "\n",
    "\n",
    "                        \n",
    "        elif data == 'historic':\n",
    "            \n",
    "            # Recommend everything relevant from the category if no hints given.\n",
    "            if(len(hints) == 0):\n",
    "                results = historic\n",
    "                results['distance'] = haversineFunction([results['lat'], results['lon']], user_feed)\n",
    "                results = results[results['distance'] < threshold]\n",
    "                results = results.iterrows()\n",
    "                for idx, spot in results:\n",
    "                    folium.Marker([spot['lat'], spot['lon']], popup = spot['name'], icon = folium.Icon(color = 'purple')).add_to(map_full)\n",
    "\n",
    "\n",
    "            # Priority Recommendations. Hints.\n",
    "            elif(len(hints) > 0):\n",
    "                for hint in hints:\n",
    "                    results = historic\n",
    "                    results = results[results['type'] == hint]\n",
    "                    results['distance'] = haversineFunction([results['lat'], results['lon']], user_feed)\n",
    "                    results = results[results['distance'] < threshold]\n",
    "                    results = results.iterrows()\n",
    "                    for idx, spot in results:\n",
    "                        folium.Marker([spot['lat'], spot['lon']], popup = spot['name'], icon = folium.Icon(color = 'purple')).add_to(map_full)\n",
    "\n",
    "            \n",
    "            \n",
    "        elif data == 'food':\n",
    "            # Recommend everything relevant from the category if no hints are given.\n",
    "            if(len(hints) == 0):\n",
    "                results = food\n",
    "                results['distance'] = haversineFunction([results['lat'], results['lon']], user_feed)\n",
    "                results = results[results['distance'] < threshold]\n",
    "                results = results.iterrows()\n",
    "                for idx, spot in results:\n",
    "                    if spot['cuisine'] != None:\n",
    "                        folium.Marker([spot['lat'], spot['lon']], popup = spot['name'] + \"\\n\\n(\" + spot['amenity'] + \" - \" + spot['cuisine'] + \")\", icon = folium.Icon(color = 'red')).add_to(map_full)\n",
    "                    else:\n",
    "                        folium.Marker([spot['lat'], spot['lon']], popup = spot['name'] + \"\\n\\n(\" + spot['amenity'] + \")\", icon = folium.Icon(color = 'red')).add_to(map_full)\n",
    "\n",
    "\n",
    "            # Priority Recommendations. Hints.\n",
    "            elif(len(hints) > 0):\n",
    "                for hint in hints:\n",
    "                    results = food\n",
    "                    results = results[results['amenity'] == hint]\n",
    "                    results['distance'] = haversineFunction([results['lat'], results['lon']], user_feed)\n",
    "                    results = results[results['distance'] < threshold]\n",
    "                    results = results.iterrows()\n",
    "                    for idx, spot in results:\n",
    "                        if spot['cuisine'] != None:\n",
    "                            folium.Marker([spot['lat'], spot['lon']], popup = spot['name'] + \"\\n\\n(\" + spot['amenity'] + \" - \" + spot['cuisine'] + \")\", icon = folium.Icon(color = 'red')).add_to(map_full)\n",
    "                        else:\n",
    "                            folium.Marker([spot['lat'], spot['lon']], popup = spot['name'] + \"\\n\\n(\" + spot['amenity'] + \")\", icon = folium.Icon(color = 'red')).add_to(map_full)\n",
    "                            \n",
    "                         \n",
    "\n",
    "        elif data == 'night':\n",
    "            # Recommend everything relevant from the category if no hints given.\n",
    "            if(len(hints) == 0):\n",
    "                results = night\n",
    "                results['distance'] = haversineFunction([results['lat'], results['lon']], user_feed)\n",
    "                results = results[results['distance'] < threshold]\n",
    "                results = results.iterrows()\n",
    "                for idx, spot in results:\n",
    "                    if spot['amenity'] != None:\n",
    "                        folium.Marker([spot['lat'], spot['lon']], popup = spot['name'] + \"\\n\\n(\" + spot['amenity'] + \")\", icon = folium.Icon(color = 'cadetblue')).add_to(map_full)\n",
    "                    else:\n",
    "                        folium.Marker([spot['lat'], spot['lon']], popup = spot['name'], icon = folium.Icon(color = 'cadetblue')).add_to(map_full)\n",
    "                        \n",
    "                        \n",
    "            # Priority Recommendations. Hints.\n",
    "            elif(len(hints) > 0):\n",
    "                for hint in hints:\n",
    "                    results = night\n",
    "                    results = results[results['amenity'] == hint]\n",
    "                    results['distance'] = haversineFunction([results['lat'], results['lon']], user_feed)\n",
    "                    results = results[results['distance'] < threshold]\n",
    "                    results = results.iterrows()\n",
    "                    for idx, spot in results:\n",
    "                        if spot['amenity'] != None:\n",
    "                            folium.Marker([spot['lat'], spot['lon']], popup = spot['name'] + \"\\n(\" + spot['amenity'] + ')', icon = folium.Icon(color = 'cadetblue')).add_to(map_full)\n",
    "                        else:\n",
    "                            folium.Marker([spot['lat'], spot['lon']], popup = spot['name'], icon = folium.Icon(color = 'cadetblue')).add_to(map_full)\n",
    "                            \n",
    "                        \n",
    "\n",
    "        elif data == 'enterntainment':\n",
    "            # Recommend everything relevant from the category if no hints given.\n",
    "            if(len(hints) == 0):\n",
    "                results = enterntainment\n",
    "                results['distance'] = haversineFunction([results['lat'], results['lon']], user_feed)\n",
    "                results = results[results['distance'] < threshold]\n",
    "                results = results.iterrows()\n",
    "                for idx, spot in results:\n",
    "                    if result['amenity'] != None:\n",
    "                        folium.Marker([spot['lat'], spot['lon']], popup = spot['name'] + '\\n\\n(' + spot['amenity'] + \")\", icon = folium.Icon(color = 'red')).add_to(map_full)\n",
    "\n",
    "            # Priority Recommendations. Hints.\n",
    "            elif(len(hints) > 0):\n",
    "                for hint in hints:\n",
    "                    results = enterntainment\n",
    "                    results = results[results['amenity'] == hint]\n",
    "                    results['distance'] = haversineFunction([results['lat'], results['lon']], user_feed)\n",
    "                    results = results[results['distance'] < threshold]\n",
    "                    results = results.iterrows()\n",
    "                    for idx, spot in results:\n",
    "                        if result['amenity'] != None:\n",
    "                            folium.Marker([spot['lat'], spot['lon']], popup = spot['name'] + '\\n\\n(' + spot['amenity'] + \")\", icon = folium.Icon(color = 'red')).add_to(map_full)\n",
    "\n",
    "\n",
    "    display(map_full);"
   ]
  },
  {
   "cell_type": "code",
   "execution_count": 68,
   "metadata": {},
   "outputs": [
    {
     "data": {
      "text/html": [
       "<div>\n",
       "<style scoped>\n",
       "    .dataframe tbody tr th:only-of-type {\n",
       "        vertical-align: middle;\n",
       "    }\n",
       "\n",
       "    .dataframe tbody tr th {\n",
       "        vertical-align: top;\n",
       "    }\n",
       "\n",
       "    .dataframe thead th {\n",
       "        text-align: right;\n",
       "    }\n",
       "</style>\n",
       "<table border=\"1\" class=\"dataframe\">\n",
       "  <thead>\n",
       "    <tr style=\"text-align: right;\">\n",
       "      <th></th>\n",
       "      <th>WikiData</th>\n",
       "      <th>amenity</th>\n",
       "      <th>image</th>\n",
       "      <th>lat</th>\n",
       "      <th>lon</th>\n",
       "      <th>name</th>\n",
       "      <th>tags</th>\n",
       "    </tr>\n",
       "  </thead>\n",
       "  <tbody>\n",
       "    <tr>\n",
       "      <th>0</th>\n",
       "      <td>Q38377943</td>\n",
       "      <td>theatre</td>\n",
       "      <td>None</td>\n",
       "      <td>49.245578</td>\n",
       "      <td>-123.185447</td>\n",
       "      <td>Dunbar Theatre</td>\n",
       "      <td>{'addr:housenumber': '4555', 'addr:street': 'D...</td>\n",
       "    </tr>\n",
       "    <tr>\n",
       "      <th>1</th>\n",
       "      <td>Q38378154</td>\n",
       "      <td>theatre</td>\n",
       "      <td>None</td>\n",
       "      <td>49.203711</td>\n",
       "      <td>-123.137523</td>\n",
       "      <td>Metro Theatre</td>\n",
       "      <td>{'addr:housenumber': '1370', 'website': 'https...</td>\n",
       "    </tr>\n",
       "    <tr>\n",
       "      <th>2</th>\n",
       "      <td>Q38378234</td>\n",
       "      <td>theatre</td>\n",
       "      <td>None</td>\n",
       "      <td>49.281101</td>\n",
       "      <td>-123.098370</td>\n",
       "      <td>The Rickshaw</td>\n",
       "      <td>{'addr:housenumber': '254', 'website': 'http:/...</td>\n",
       "    </tr>\n",
       "    <tr>\n",
       "      <th>3</th>\n",
       "      <td>Q38378292</td>\n",
       "      <td>cinema</td>\n",
       "      <td>None</td>\n",
       "      <td>49.281998</td>\n",
       "      <td>-123.124346</td>\n",
       "      <td>Scotiabank Theatre Vancouver</td>\n",
       "      <td>{'addr:housenumber': '900', 'website': 'https:...</td>\n",
       "    </tr>\n",
       "    <tr>\n",
       "      <th>4</th>\n",
       "      <td>Q38378369</td>\n",
       "      <td>theatre</td>\n",
       "      <td>None</td>\n",
       "      <td>49.279991</td>\n",
       "      <td>-123.116458</td>\n",
       "      <td>The Centre For Performing Arts</td>\n",
       "      <td>{'addr:province': 'BC', 'addr:housenumber': '7...</td>\n",
       "    </tr>\n",
       "    <tr>\n",
       "      <th>...</th>\n",
       "      <td>...</td>\n",
       "      <td>...</td>\n",
       "      <td>...</td>\n",
       "      <td>...</td>\n",
       "      <td>...</td>\n",
       "      <td>...</td>\n",
       "      <td>...</td>\n",
       "    </tr>\n",
       "    <tr>\n",
       "      <th>73</th>\n",
       "      <td>None</td>\n",
       "      <td>townhall</td>\n",
       "      <td>None</td>\n",
       "      <td>49.038055</td>\n",
       "      <td>-123.097832</td>\n",
       "      <td>Tsawwassen First Nation Administration Offices</td>\n",
       "      <td>{'addr:housenumber': '1926', 'website': 'http:...</td>\n",
       "    </tr>\n",
       "    <tr>\n",
       "      <th>74</th>\n",
       "      <td>None</td>\n",
       "      <td>lounge</td>\n",
       "      <td>None</td>\n",
       "      <td>49.197137</td>\n",
       "      <td>-123.175708</td>\n",
       "      <td>Maple Leaf Lounge</td>\n",
       "      <td>{'operator': 'Air Canada'}</td>\n",
       "    </tr>\n",
       "    <tr>\n",
       "      <th>75</th>\n",
       "      <td>None</td>\n",
       "      <td>lounge</td>\n",
       "      <td>None</td>\n",
       "      <td>49.196528</td>\n",
       "      <td>-123.177766</td>\n",
       "      <td>Sakura Lounge</td>\n",
       "      <td>{'operator': 'JAL'}</td>\n",
       "    </tr>\n",
       "    <tr>\n",
       "      <th>76</th>\n",
       "      <td>None</td>\n",
       "      <td>lounge</td>\n",
       "      <td>None</td>\n",
       "      <td>49.195936</td>\n",
       "      <td>-123.178125</td>\n",
       "      <td>Plaza Premium Lounge</td>\n",
       "      <td>{}</td>\n",
       "    </tr>\n",
       "    <tr>\n",
       "      <th>77</th>\n",
       "      <td>None</td>\n",
       "      <td>casino</td>\n",
       "      <td>None</td>\n",
       "      <td>49.285542</td>\n",
       "      <td>-123.040198</td>\n",
       "      <td>Casino Slots &amp; Gaming Floor at Hastings Raceco...</td>\n",
       "      <td>{'website': 'http://www.hastingsracecourse.com...</td>\n",
       "    </tr>\n",
       "  </tbody>\n",
       "</table>\n",
       "<p>78 rows × 7 columns</p>\n",
       "</div>"
      ],
      "text/plain": [
       "     WikiData   amenity image        lat         lon  \\\n",
       "0   Q38377943   theatre  None  49.245578 -123.185447   \n",
       "1   Q38378154   theatre  None  49.203711 -123.137523   \n",
       "2   Q38378234   theatre  None  49.281101 -123.098370   \n",
       "3   Q38378292    cinema  None  49.281998 -123.124346   \n",
       "4   Q38378369   theatre  None  49.279991 -123.116458   \n",
       "..        ...       ...   ...        ...         ...   \n",
       "73       None  townhall  None  49.038055 -123.097832   \n",
       "74       None    lounge  None  49.197137 -123.175708   \n",
       "75       None    lounge  None  49.196528 -123.177766   \n",
       "76       None    lounge  None  49.195936 -123.178125   \n",
       "77       None    casino  None  49.285542 -123.040198   \n",
       "\n",
       "                                                 name  \\\n",
       "0                                      Dunbar Theatre   \n",
       "1                                       Metro Theatre   \n",
       "2                                        The Rickshaw   \n",
       "3                        Scotiabank Theatre Vancouver   \n",
       "4                      The Centre For Performing Arts   \n",
       "..                                                ...   \n",
       "73     Tsawwassen First Nation Administration Offices   \n",
       "74                                  Maple Leaf Lounge   \n",
       "75                                      Sakura Lounge   \n",
       "76                               Plaza Premium Lounge   \n",
       "77  Casino Slots & Gaming Floor at Hastings Raceco...   \n",
       "\n",
       "                                                 tags  \n",
       "0   {'addr:housenumber': '4555', 'addr:street': 'D...  \n",
       "1   {'addr:housenumber': '1370', 'website': 'https...  \n",
       "2   {'addr:housenumber': '254', 'website': 'http:/...  \n",
       "3   {'addr:housenumber': '900', 'website': 'https:...  \n",
       "4   {'addr:province': 'BC', 'addr:housenumber': '7...  \n",
       "..                                                ...  \n",
       "73  {'addr:housenumber': '1926', 'website': 'http:...  \n",
       "74                         {'operator': 'Air Canada'}  \n",
       "75                                {'operator': 'JAL'}  \n",
       "76                                                 {}  \n",
       "77  {'website': 'http://www.hastingsracecourse.com...  \n",
       "\n",
       "[78 rows x 7 columns]"
      ]
     },
     "execution_count": 68,
     "metadata": {},
     "output_type": "execute_result"
    }
   ],
   "source": [
    "enterntainment"
   ]
  },
  {
   "cell_type": "markdown",
   "metadata": {},
   "source": [
    "## Testing"
   ]
  },
  {
   "cell_type": "markdown",
   "metadata": {},
   "source": [
    "Please Input your CHOICE for the Tour. You can pass HINTS to prioritize the spots as a list.\n",
    "- Tourism \n",
    "        information, attraction, hostel, artwork, guest_house,\n",
    "        museum, camp_site, hotel, viewpoint, apartment,\n",
    "        picnic_site, gallery, theme_park, motel, 'caravan_site,\n",
    "        winery, lookout, Plane_Spotting_Platform, 'house\n",
    "- Historic\n",
    "        monument, memorial, ruins, aircraft, boundary_stone, ship,\n",
    "        milepost, milestone, building, tree, church, locomotive\n",
    "- Food\n",
    "        restaurant, cafe, fast_food, ice_cream, bistro,\n",
    "        food_court\n",
    "        \n",
    "- Night Enterntainment\n",
    "        nightclub, pub, bar, events_venue\n",
    "\n",
    "- Enterntainment\n",
    "        theatre, cinema, arts_centre, townhall, gambling,\n",
    "        leisure, internet_cafe, lounge, casino\n",
    "\n",
    "AND your preffered transportation mode (Some recommendations will vary):\n",
    "- Walk\n",
    "- Drive\n",
    "- Subway\n"
   ]
  },
  {
   "cell_type": "code",
   "execution_count": 70,
   "metadata": {
    "scrolled": false
   },
   "outputs": [
    {
     "data": {
      "text/html": [
       "<div style=\"width:100%;\"><div style=\"position:relative;width:100%;height:0;padding-bottom:60%;\"><span style=\"color:#565656\">Make this Notebook Trusted to load map: File -> Trust Notebook</span><iframe src=\"about:blank\" style=\"position:absolute;width:100%;height:100%;left:0;top:0;border:none !important;\" data-html=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 onload=\"this.contentDocument.open();this.contentDocument.write(atob(this.getAttribute('data-html')));this.contentDocument.close();\" allowfullscreen webkitallowfullscreen mozallowfullscreen></iframe></div></div>"
      ],
      "text/plain": [
       "<folium.folium.Map at 0x7f45b8942850>"
      ]
     },
     "metadata": {},
     "output_type": "display_data"
    }
   ],
   "source": [
    "setup('food', [], 'walk', [49.2781, -123.0840])"
   ]
  },
  {
   "cell_type": "code",
   "execution_count": null,
   "metadata": {},
   "outputs": [],
   "source": []
  },
  {
   "cell_type": "code",
   "execution_count": null,
   "metadata": {},
   "outputs": [],
   "source": []
  }
 ],
 "metadata": {
  "kernelspec": {
   "display_name": "Python 3",
   "language": "python",
   "name": "python3"
  },
  "language_info": {
   "codemirror_mode": {
    "name": "ipython",
    "version": 3
   },
   "file_extension": ".py",
   "mimetype": "text/x-python",
   "name": "python",
   "nbconvert_exporter": "python",
   "pygments_lexer": "ipython3",
   "version": "3.8.2"
  }
 },
 "nbformat": 4,
 "nbformat_minor": 4
}
