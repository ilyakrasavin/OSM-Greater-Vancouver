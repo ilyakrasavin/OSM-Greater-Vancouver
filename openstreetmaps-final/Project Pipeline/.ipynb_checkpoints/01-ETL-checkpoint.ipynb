{
 "cells": [
  {
   "cell_type": "markdown",
   "metadata": {},
   "source": [
    "# Extracting and Loading OpenStreetMaps data."
   ]
  },
  {
   "cell_type": "code",
   "execution_count": 1,
   "metadata": {},
   "outputs": [],
   "source": [
    "import numpy as np\n",
    "import pandas as pd\n",
    "import missingno as msno\n",
    "import matplotlib\n",
    "import sys\n",
    "from pyspark.sql import SparkSession, functions, types\n",
    "\n",
    "\n",
    "# Initialize a Spark Session.\n",
    "spark = SparkSession.builder.appName('Preprocess data').getOrCreate()\n",
    "spark.sparkContext.setLogLevel('WARN')\n"
   ]
  },
  {
   "cell_type": "code",
   "execution_count": 2,
   "metadata": {},
   "outputs": [],
   "source": [
    "# Setting up the Schema\n",
    "amenity_schema = types.StructType([\n",
    "    types.StructField('lat', types.DoubleType(), nullable=False),\n",
    "    types.StructField('lon', types.DoubleType(), nullable=False),\n",
    "    types.StructField('timestamp', types.TimestampType(), nullable=False),\n",
    "    types.StructField('amenity', types.StringType(), nullable=False),\n",
    "    types.StructField('name', types.StringType(), nullable=True),\n",
    "    types.StructField('tags', types.MapType(types.StringType(), types.StringType()), nullable=True),\n",
    "])"
   ]
  },
  {
   "cell_type": "markdown",
   "metadata": {},
   "source": [
    "### Amenity Data"
   ]
  },
  {
   "cell_type": "code",
   "execution_count": 3,
   "metadata": {
    "scrolled": false
   },
   "outputs": [
    {
     "name": "stdout",
     "output_type": "stream",
     "text": [
      "root\n",
      " |-- lat: double (nullable = true)\n",
      " |-- lon: double (nullable = true)\n",
      " |-- timestamp: timestamp (nullable = true)\n",
      " |-- amenity: string (nullable = true)\n",
      " |-- name: string (nullable = true)\n",
      " |-- tags: map (nullable = true)\n",
      " |    |-- key: string\n",
      " |    |-- value: string (valueContainsNull = true)\n",
      "\n",
      "+----------+------------+----------------+--------------------+--------------------+\n",
      "|       lat|         lon|         amenity|                name|                tags|\n",
      "+----------+------------+----------------+--------------------+--------------------+\n",
      "| 49.260812| -123.125736|            cafe|           Starbucks|[brand:wikidata -...|\n",
      "| 49.260953| -123.125704|       fast_food|          Salad Loop|[opening_hours ->...|\n",
      "|49.3734231|-123.2918935|         toilets|                null|                  []|\n",
      "|49.2498481| -122.959708|             bbq|                null|                  []|\n",
      "|49.3708976|-123.2804478|place_of_worship|St. Monica's Angl...|[addr:housenumber...|\n",
      "| 49.219983| -122.988481|        post_box|                null|[operator -> Cana...|\n",
      "|49.2802556|-122.9288938|       telephone|                null|                  []|\n",
      "|49.2640414|-123.1534072|            fuel|               Shell|[brand:wikidata -...|\n",
      "|49.3707611|-123.2742072|         toilets|                null|       [male -> yes]|\n",
      "|49.3705855|-123.2743869| vending_machine|                null|                  []|\n",
      "|49.3705742|-123.2743627| vending_machine|                null|                  []|\n",
      "|49.3705637|-123.2743775| vending_machine|                null|                  []|\n",
      "|49.3705707|-123.2744003| vending_machine|                null|                  []|\n",
      "|49.1266497|-123.1824699|      restaurant|Best Bite Indian ...|[addr:housenumber...|\n",
      "|49.2760753|-123.1271668|parking_entrance|               Hertz|[parking -> under...|\n",
      "|49.4387129|-122.9712811|         toilets|                null|                  []|\n",
      "|49.2831924|-123.1090499|             pub|          The Cambie|[toilets:wheelcha...|\n",
      "|49.0822808|-122.0561304|            fuel|        Petro-Canada|[name:en -> Petro...|\n",
      "|49.2658642|-123.2426102| bicycle_parking|                null|[created_by -> Po...|\n",
      "|49.2659507|-123.2466297|             pub|     Mahony and Sons| [wheelchair -> yes]|\n",
      "+----------+------------+----------------+--------------------+--------------------+\n",
      "only showing top 20 rows\n",
      "\n"
     ]
    }
   ],
   "source": [
    "# Load\n",
    "data_amenities = spark.read.json(path = '../Datasets/amenities-vancouver.json.gz', schema = amenity_schema)\n",
    "\n",
    "# Feature Schema for our dataset.\n",
    "data_amenities.printSchema()\n",
    "\n",
    "# Wikimedia tags are included.\n",
    "# Leave name unfiltered to attempt combining with WikiData later.\n",
    "data_amenities = data_amenities.drop('timestamp')\n",
    "\n",
    "data_amenities.write.json('amenities-cleaned', mode = 'overwrite')\n",
    "data_amenities.show()"
   ]
  },
  {
   "cell_type": "markdown",
   "metadata": {},
   "source": [
    "### Non-Amenity Data"
   ]
  },
  {
   "cell_type": "code",
   "execution_count": 4,
   "metadata": {},
   "outputs": [
    {
     "name": "stdout",
     "output_type": "stream",
     "text": [
      "+----------+------------+--------------------+--------------------+\n",
      "|       lat|         lon|                name|                tags|\n",
      "+----------+------------+--------------------+--------------------+\n",
      "|49.2792968|-122.9203518|Simon Fraser Univ...|[tourism -> infor...|\n",
      "|49.1537742|-122.5255942|   Eagle Acres Dairy|[tourism -> attra...|\n",
      "|49.2791033|-123.1236705|HI Vancouver Central|[guest_house -> h...|\n",
      "|49.1490843|-122.9354361|                null|[tourism -> infor...|\n",
      "|49.1866222|-122.9793512|                null|[tourism -> infor...|\n",
      "|49.1850046|-122.9885831|                null|[tourism -> infor...|\n",
      "|49.1918063|-122.9987891|                null|[tourism -> infor...|\n",
      "|49.1976296|-123.0122037|                null|[tourism -> infor...|\n",
      "|49.1933186|-123.0003269|                null|[tourism -> picni...|\n",
      "|49.3239711| -123.102426|       Sleep Country|[brand:wikidata -...|\n",
      "|49.1664654|-122.4501176|                null|[tourism -> infor...|\n",
      "| 49.166774|-122.4512603|                null|[tourism -> infor...|\n",
      "|49.1065521|-122.3708921|                null|[tourism -> infor...|\n",
      "| 49.106441|-122.3685729|                null|[tourism -> infor...|\n",
      "|49.0528528|-122.3534698|                null|[tourism -> infor...|\n",
      "| 49.127548|-122.2233562|                null|[tourism -> infor...|\n",
      "|49.1377777|-122.2650616|                null|[tourism -> infor...|\n",
      "|49.1350225|  -122.27237|                null|[tourism -> infor...|\n",
      "|49.1329496|-122.2800907|                null|[tourism -> infor...|\n",
      "|49.1205506|-122.3032765|                null|[tourism -> infor...|\n",
      "+----------+------------+--------------------+--------------------+\n",
      "only showing top 20 rows\n",
      "\n"
     ]
    }
   ],
   "source": [
    "# Load\n",
    "data_non_amenities = spark.read.json(path = '../Datasets/nonAmenities-vancouver.json.gz', schema = amenity_schema)\n",
    "\n",
    "data_non_amenities = data_non_amenities.drop('timestamp', 'amenity')\n",
    "data_non_amenities.write.json('non-amenities', mode = 'overwrite')\n",
    "data_non_amenities.show()\n"
   ]
  },
  {
   "cell_type": "markdown",
   "metadata": {},
   "source": [
    "### Transportation Data"
   ]
  },
  {
   "cell_type": "code",
   "execution_count": 5,
   "metadata": {},
   "outputs": [
    {
     "name": "stdout",
     "output_type": "stream",
     "text": [
      "+----------+------------+--------------------+--------------------+\n",
      "|       lat|         lon|                name|                tags|\n",
      "+----------+------------+--------------------+--------------------+\n",
      "|49.2781599|-122.8477927|        Moody Centre|[wheelchair -> ye...|\n",
      "|49.2731524|-123.1004436|Main Street–Scien...|[wheelchair -> ye...|\n",
      "|49.2820152|-123.1189358|Vancouver City Ce...|[subway -> yes, p...|\n",
      "|49.2666472|-123.1154245|     Olympic Village|[subway -> yes, p...|\n",
      "|49.2260351|-123.1164945| Langara-49th Avenue|[subway -> yes, p...|\n",
      "|49.2096173|-123.1169376|        Marine Drive|[subway -> yes, p...|\n",
      "|49.2803394|-122.7940816|             Lincoln|[wheelchair -> ye...|\n",
      "|49.2607932|-123.0328813|              Rupert|[subway -> yes, p...|\n",
      "|49.2124293|-122.6062266|          Port Haney|[alt_name -> Port...|\n",
      "|49.1991139| -122.850605|             Gateway|[wheelchair -> ye...|\n",
      "|49.1895143|-122.8478763|      Surrey Central|[wheelchair -> ye...|\n",
      "|49.1827755|-122.8447317|         King George|[wheelchair -> li...|\n",
      "|49.2044338|-122.8741266|          Scott Road|[wheelchair -> ye...|\n",
      "| 49.224545|-122.8895213|           Sapperton|[wheelchair -> ye...|\n",
      "|  49.20137|-122.9127416|     New Westminster|[wheelchair -> ye...|\n",
      "|49.2000649| -122.949015|         22nd Street|[wheelchair -> ye...|\n",
      "|49.2121286|-122.9592336|             Edmonds|[wheelchair -> ye...|\n",
      "|49.2200742|-122.9884168|           Royal Oak|[wheelchair -> ye...|\n",
      "|49.2258524|-123.0038944|           Metrotown|[wheelchair -> ye...|\n",
      "|49.2298294|-123.0127888|           Patterson|[wheelchair -> ye...|\n",
      "+----------+------------+--------------------+--------------------+\n",
      "only showing top 20 rows\n",
      "\n"
     ]
    }
   ],
   "source": [
    "# Load\n",
    "data_transportation = spark.read.json(path = '../Datasets/transportVancouver.json.gz', schema = amenity_schema)\n",
    "\n",
    "# Make sure entries have a WikiData Tag.\n",
    "data_transportation = data_transportation.filter(data_transportation['tags']['wikidata'].isNotNull())\n",
    "data_transportation = data_transportation.drop('timestamp', 'amenity')\n",
    "\n",
    "data_transportation.write.json('transportation', mode = 'overwrite')\n",
    "data_transportation.show()"
   ]
  }
 ],
 "metadata": {
  "kernelspec": {
   "display_name": "Python 3",
   "language": "python",
   "name": "python3"
  },
  "language_info": {
   "codemirror_mode": {
    "name": "ipython",
    "version": 3
   },
   "file_extension": ".py",
   "mimetype": "text/x-python",
   "name": "python",
   "nbconvert_exporter": "python",
   "pygments_lexer": "ipython3",
   "version": "3.8.5"
  }
 },
 "nbformat": 4,
 "nbformat_minor": 4
}
